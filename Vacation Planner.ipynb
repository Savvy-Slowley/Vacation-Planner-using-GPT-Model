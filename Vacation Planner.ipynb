{
 "cells": [
  {
   "cell_type": "markdown",
   "id": "66a18944-f031-4564-805c-0e2cb135d7b3",
   "metadata": {},
   "source": [
    "# Installs"
   ]
  },
  {
   "cell_type": "code",
   "execution_count": 31,
   "id": "48a51968-a6d8-4790-8554-24ea1c8be59e",
   "metadata": {},
   "outputs": [
    {
     "name": "stdout",
     "output_type": "stream",
     "text": [
      "Requirement already satisfied: langchain in c:\\users\\ranal\\anaconda3\\envs\\llm\\lib\\site-packages (0.2.6)\n",
      "Requirement already satisfied: PyYAML>=5.3 in c:\\users\\ranal\\anaconda3\\envs\\llm\\lib\\site-packages (from langchain) (6.0.1)\n",
      "Requirement already satisfied: SQLAlchemy<3,>=1.4 in c:\\users\\ranal\\anaconda3\\envs\\llm\\lib\\site-packages (from langchain) (2.0.31)\n",
      "Requirement already satisfied: aiohttp<4.0.0,>=3.8.3 in c:\\users\\ranal\\anaconda3\\envs\\llm\\lib\\site-packages (from langchain) (3.9.5)\n",
      "Requirement already satisfied: langchain-core<0.3.0,>=0.2.10 in c:\\users\\ranal\\anaconda3\\envs\\llm\\lib\\site-packages (from langchain) (0.2.11)\n",
      "Requirement already satisfied: langchain-text-splitters<0.3.0,>=0.2.0 in c:\\users\\ranal\\anaconda3\\envs\\llm\\lib\\site-packages (from langchain) (0.2.2)\n",
      "Requirement already satisfied: langsmith<0.2.0,>=0.1.17 in c:\\users\\ranal\\anaconda3\\envs\\llm\\lib\\site-packages (from langchain) (0.1.83)\n",
      "Requirement already satisfied: numpy<2,>=1 in c:\\users\\ranal\\anaconda3\\envs\\llm\\lib\\site-packages (from langchain) (1.26.4)\n",
      "Requirement already satisfied: pydantic<3,>=1 in c:\\users\\ranal\\anaconda3\\envs\\llm\\lib\\site-packages (from langchain) (2.8.2)\n",
      "Requirement already satisfied: requests<3,>=2 in c:\\users\\ranal\\anaconda3\\envs\\llm\\lib\\site-packages (from langchain) (2.32.2)\n",
      "Requirement already satisfied: tenacity!=8.4.0,<9.0.0,>=8.1.0 in c:\\users\\ranal\\anaconda3\\envs\\llm\\lib\\site-packages (from langchain) (8.5.0)\n",
      "Requirement already satisfied: aiosignal>=1.1.2 in c:\\users\\ranal\\anaconda3\\envs\\llm\\lib\\site-packages (from aiohttp<4.0.0,>=3.8.3->langchain) (1.3.1)\n",
      "Requirement already satisfied: attrs>=17.3.0 in c:\\users\\ranal\\anaconda3\\envs\\llm\\lib\\site-packages (from aiohttp<4.0.0,>=3.8.3->langchain) (23.1.0)\n",
      "Requirement already satisfied: frozenlist>=1.1.1 in c:\\users\\ranal\\anaconda3\\envs\\llm\\lib\\site-packages (from aiohttp<4.0.0,>=3.8.3->langchain) (1.4.1)\n",
      "Requirement already satisfied: multidict<7.0,>=4.5 in c:\\users\\ranal\\anaconda3\\envs\\llm\\lib\\site-packages (from aiohttp<4.0.0,>=3.8.3->langchain) (6.0.5)\n",
      "Requirement already satisfied: yarl<2.0,>=1.0 in c:\\users\\ranal\\anaconda3\\envs\\llm\\lib\\site-packages (from aiohttp<4.0.0,>=3.8.3->langchain) (1.9.4)\n",
      "Requirement already satisfied: jsonpatch<2.0,>=1.33 in c:\\users\\ranal\\anaconda3\\envs\\llm\\lib\\site-packages (from langchain-core<0.3.0,>=0.2.10->langchain) (1.33)\n",
      "Requirement already satisfied: packaging<25,>=23.2 in c:\\users\\ranal\\anaconda3\\envs\\llm\\lib\\site-packages (from langchain-core<0.3.0,>=0.2.10->langchain) (24.1)\n",
      "Requirement already satisfied: orjson<4.0.0,>=3.9.14 in c:\\users\\ranal\\anaconda3\\envs\\llm\\lib\\site-packages (from langsmith<0.2.0,>=0.1.17->langchain) (3.10.6)\n",
      "Requirement already satisfied: annotated-types>=0.4.0 in c:\\users\\ranal\\anaconda3\\envs\\llm\\lib\\site-packages (from pydantic<3,>=1->langchain) (0.7.0)\n",
      "Requirement already satisfied: pydantic-core==2.20.1 in c:\\users\\ranal\\anaconda3\\envs\\llm\\lib\\site-packages (from pydantic<3,>=1->langchain) (2.20.1)\n",
      "Requirement already satisfied: typing-extensions>=4.6.1 in c:\\users\\ranal\\anaconda3\\envs\\llm\\lib\\site-packages (from pydantic<3,>=1->langchain) (4.11.0)\n",
      "Requirement already satisfied: charset-normalizer<4,>=2 in c:\\users\\ranal\\anaconda3\\envs\\llm\\lib\\site-packages (from requests<3,>=2->langchain) (2.0.4)\n",
      "Requirement already satisfied: idna<4,>=2.5 in c:\\users\\ranal\\anaconda3\\envs\\llm\\lib\\site-packages (from requests<3,>=2->langchain) (3.7)\n",
      "Requirement already satisfied: urllib3<3,>=1.21.1 in c:\\users\\ranal\\anaconda3\\envs\\llm\\lib\\site-packages (from requests<3,>=2->langchain) (2.2.2)\n",
      "Requirement already satisfied: certifi>=2017.4.17 in c:\\users\\ranal\\anaconda3\\envs\\llm\\lib\\site-packages (from requests<3,>=2->langchain) (2024.6.2)\n",
      "Requirement already satisfied: greenlet!=0.4.17 in c:\\users\\ranal\\anaconda3\\envs\\llm\\lib\\site-packages (from SQLAlchemy<3,>=1.4->langchain) (3.0.3)\n",
      "Requirement already satisfied: jsonpointer>=1.9 in c:\\users\\ranal\\anaconda3\\envs\\llm\\lib\\site-packages (from jsonpatch<2.0,>=1.33->langchain-core<0.3.0,>=0.2.10->langchain) (3.0.0)\n",
      "Requirement already satisfied: langchain_community in c:\\users\\ranal\\anaconda3\\envs\\llm\\lib\\site-packages (0.2.6)\n",
      "Requirement already satisfied: PyYAML>=5.3 in c:\\users\\ranal\\anaconda3\\envs\\llm\\lib\\site-packages (from langchain_community) (6.0.1)\n",
      "Requirement already satisfied: SQLAlchemy<3,>=1.4 in c:\\users\\ranal\\anaconda3\\envs\\llm\\lib\\site-packages (from langchain_community) (2.0.31)\n",
      "Requirement already satisfied: aiohttp<4.0.0,>=3.8.3 in c:\\users\\ranal\\anaconda3\\envs\\llm\\lib\\site-packages (from langchain_community) (3.9.5)\n",
      "Requirement already satisfied: dataclasses-json<0.7,>=0.5.7 in c:\\users\\ranal\\anaconda3\\envs\\llm\\lib\\site-packages (from langchain_community) (0.6.7)\n",
      "Requirement already satisfied: langchain<0.3.0,>=0.2.6 in c:\\users\\ranal\\anaconda3\\envs\\llm\\lib\\site-packages (from langchain_community) (0.2.6)\n",
      "Requirement already satisfied: langchain-core<0.3.0,>=0.2.10 in c:\\users\\ranal\\anaconda3\\envs\\llm\\lib\\site-packages (from langchain_community) (0.2.11)\n",
      "Requirement already satisfied: langsmith<0.2.0,>=0.1.0 in c:\\users\\ranal\\anaconda3\\envs\\llm\\lib\\site-packages (from langchain_community) (0.1.83)\n",
      "Requirement already satisfied: numpy<2,>=1 in c:\\users\\ranal\\anaconda3\\envs\\llm\\lib\\site-packages (from langchain_community) (1.26.4)\n",
      "Requirement already satisfied: requests<3,>=2 in c:\\users\\ranal\\anaconda3\\envs\\llm\\lib\\site-packages (from langchain_community) (2.32.2)\n",
      "Requirement already satisfied: tenacity!=8.4.0,<9.0.0,>=8.1.0 in c:\\users\\ranal\\anaconda3\\envs\\llm\\lib\\site-packages (from langchain_community) (8.5.0)\n",
      "Requirement already satisfied: aiosignal>=1.1.2 in c:\\users\\ranal\\anaconda3\\envs\\llm\\lib\\site-packages (from aiohttp<4.0.0,>=3.8.3->langchain_community) (1.3.1)\n",
      "Requirement already satisfied: attrs>=17.3.0 in c:\\users\\ranal\\anaconda3\\envs\\llm\\lib\\site-packages (from aiohttp<4.0.0,>=3.8.3->langchain_community) (23.1.0)\n",
      "Requirement already satisfied: frozenlist>=1.1.1 in c:\\users\\ranal\\anaconda3\\envs\\llm\\lib\\site-packages (from aiohttp<4.0.0,>=3.8.3->langchain_community) (1.4.1)\n",
      "Requirement already satisfied: multidict<7.0,>=4.5 in c:\\users\\ranal\\anaconda3\\envs\\llm\\lib\\site-packages (from aiohttp<4.0.0,>=3.8.3->langchain_community) (6.0.5)\n",
      "Requirement already satisfied: yarl<2.0,>=1.0 in c:\\users\\ranal\\anaconda3\\envs\\llm\\lib\\site-packages (from aiohttp<4.0.0,>=3.8.3->langchain_community) (1.9.4)\n",
      "Requirement already satisfied: marshmallow<4.0.0,>=3.18.0 in c:\\users\\ranal\\anaconda3\\envs\\llm\\lib\\site-packages (from dataclasses-json<0.7,>=0.5.7->langchain_community) (3.21.3)\n",
      "Requirement already satisfied: typing-inspect<1,>=0.4.0 in c:\\users\\ranal\\anaconda3\\envs\\llm\\lib\\site-packages (from dataclasses-json<0.7,>=0.5.7->langchain_community) (0.9.0)\n",
      "Requirement already satisfied: langchain-text-splitters<0.3.0,>=0.2.0 in c:\\users\\ranal\\anaconda3\\envs\\llm\\lib\\site-packages (from langchain<0.3.0,>=0.2.6->langchain_community) (0.2.2)\n",
      "Requirement already satisfied: pydantic<3,>=1 in c:\\users\\ranal\\anaconda3\\envs\\llm\\lib\\site-packages (from langchain<0.3.0,>=0.2.6->langchain_community) (2.8.2)\n",
      "Requirement already satisfied: jsonpatch<2.0,>=1.33 in c:\\users\\ranal\\anaconda3\\envs\\llm\\lib\\site-packages (from langchain-core<0.3.0,>=0.2.10->langchain_community) (1.33)\n",
      "Requirement already satisfied: packaging<25,>=23.2 in c:\\users\\ranal\\anaconda3\\envs\\llm\\lib\\site-packages (from langchain-core<0.3.0,>=0.2.10->langchain_community) (24.1)\n",
      "Requirement already satisfied: orjson<4.0.0,>=3.9.14 in c:\\users\\ranal\\anaconda3\\envs\\llm\\lib\\site-packages (from langsmith<0.2.0,>=0.1.0->langchain_community) (3.10.6)\n",
      "Requirement already satisfied: charset-normalizer<4,>=2 in c:\\users\\ranal\\anaconda3\\envs\\llm\\lib\\site-packages (from requests<3,>=2->langchain_community) (2.0.4)\n",
      "Requirement already satisfied: idna<4,>=2.5 in c:\\users\\ranal\\anaconda3\\envs\\llm\\lib\\site-packages (from requests<3,>=2->langchain_community) (3.7)\n",
      "Requirement already satisfied: urllib3<3,>=1.21.1 in c:\\users\\ranal\\anaconda3\\envs\\llm\\lib\\site-packages (from requests<3,>=2->langchain_community) (2.2.2)\n",
      "Requirement already satisfied: certifi>=2017.4.17 in c:\\users\\ranal\\anaconda3\\envs\\llm\\lib\\site-packages (from requests<3,>=2->langchain_community) (2024.6.2)\n",
      "Requirement already satisfied: typing-extensions>=4.6.0 in c:\\users\\ranal\\anaconda3\\envs\\llm\\lib\\site-packages (from SQLAlchemy<3,>=1.4->langchain_community) (4.11.0)\n",
      "Requirement already satisfied: greenlet!=0.4.17 in c:\\users\\ranal\\anaconda3\\envs\\llm\\lib\\site-packages (from SQLAlchemy<3,>=1.4->langchain_community) (3.0.3)\n",
      "Requirement already satisfied: jsonpointer>=1.9 in c:\\users\\ranal\\anaconda3\\envs\\llm\\lib\\site-packages (from jsonpatch<2.0,>=1.33->langchain-core<0.3.0,>=0.2.10->langchain_community) (3.0.0)\n",
      "Requirement already satisfied: annotated-types>=0.4.0 in c:\\users\\ranal\\anaconda3\\envs\\llm\\lib\\site-packages (from pydantic<3,>=1->langchain<0.3.0,>=0.2.6->langchain_community) (0.7.0)\n",
      "Requirement already satisfied: pydantic-core==2.20.1 in c:\\users\\ranal\\anaconda3\\envs\\llm\\lib\\site-packages (from pydantic<3,>=1->langchain<0.3.0,>=0.2.6->langchain_community) (2.20.1)\n",
      "Requirement already satisfied: mypy-extensions>=0.3.0 in c:\\users\\ranal\\anaconda3\\envs\\llm\\lib\\site-packages (from typing-inspect<1,>=0.4.0->dataclasses-json<0.7,>=0.5.7->langchain_community) (1.0.0)\n",
      "Requirement already satisfied: openai in c:\\users\\ranal\\anaconda3\\envs\\llm\\lib\\site-packages (1.35.10)\n",
      "Requirement already satisfied: anyio<5,>=3.5.0 in c:\\users\\ranal\\anaconda3\\envs\\llm\\lib\\site-packages (from openai) (4.2.0)\n",
      "Requirement already satisfied: distro<2,>=1.7.0 in c:\\users\\ranal\\anaconda3\\envs\\llm\\lib\\site-packages (from openai) (1.9.0)\n",
      "Requirement already satisfied: httpx<1,>=0.23.0 in c:\\users\\ranal\\anaconda3\\envs\\llm\\lib\\site-packages (from openai) (0.27.0)\n",
      "Requirement already satisfied: pydantic<3,>=1.9.0 in c:\\users\\ranal\\anaconda3\\envs\\llm\\lib\\site-packages (from openai) (2.8.2)\n",
      "Requirement already satisfied: sniffio in c:\\users\\ranal\\anaconda3\\envs\\llm\\lib\\site-packages (from openai) (1.3.0)\n",
      "Requirement already satisfied: tqdm>4 in c:\\users\\ranal\\anaconda3\\envs\\llm\\lib\\site-packages (from openai) (4.66.4)\n",
      "Requirement already satisfied: typing-extensions<5,>=4.7 in c:\\users\\ranal\\anaconda3\\envs\\llm\\lib\\site-packages (from openai) (4.11.0)\n",
      "Requirement already satisfied: idna>=2.8 in c:\\users\\ranal\\anaconda3\\envs\\llm\\lib\\site-packages (from anyio<5,>=3.5.0->openai) (3.7)\n",
      "Requirement already satisfied: certifi in c:\\users\\ranal\\anaconda3\\envs\\llm\\lib\\site-packages (from httpx<1,>=0.23.0->openai) (2024.6.2)\n",
      "Requirement already satisfied: httpcore==1.* in c:\\users\\ranal\\anaconda3\\envs\\llm\\lib\\site-packages (from httpx<1,>=0.23.0->openai) (1.0.5)\n",
      "Requirement already satisfied: h11<0.15,>=0.13 in c:\\users\\ranal\\anaconda3\\envs\\llm\\lib\\site-packages (from httpcore==1.*->httpx<1,>=0.23.0->openai) (0.14.0)\n",
      "Requirement already satisfied: annotated-types>=0.4.0 in c:\\users\\ranal\\anaconda3\\envs\\llm\\lib\\site-packages (from pydantic<3,>=1.9.0->openai) (0.7.0)\n",
      "Requirement already satisfied: pydantic-core==2.20.1 in c:\\users\\ranal\\anaconda3\\envs\\llm\\lib\\site-packages (from pydantic<3,>=1.9.0->openai) (2.20.1)\n",
      "Requirement already satisfied: colorama in c:\\users\\ranal\\anaconda3\\envs\\llm\\lib\\site-packages (from tqdm>4->openai) (0.4.6)\n",
      "Collecting streamlit\n",
      "  Downloading streamlit-1.36.0-py2.py3-none-any.whl.metadata (8.5 kB)\n",
      "Collecting altair<6,>=4.0 (from streamlit)\n",
      "  Downloading altair-5.3.0-py3-none-any.whl.metadata (9.2 kB)\n",
      "Collecting blinker<2,>=1.0.0 (from streamlit)\n",
      "  Downloading blinker-1.8.2-py3-none-any.whl.metadata (1.6 kB)\n",
      "Collecting cachetools<6,>=4.0 (from streamlit)\n",
      "  Downloading cachetools-5.3.3-py3-none-any.whl.metadata (5.3 kB)\n",
      "Collecting click<9,>=7.0 (from streamlit)\n",
      "  Downloading click-8.1.7-py3-none-any.whl.metadata (3.0 kB)\n",
      "Requirement already satisfied: numpy<3,>=1.20 in c:\\users\\ranal\\anaconda3\\envs\\llm\\lib\\site-packages (from streamlit) (1.26.4)\n",
      "Requirement already satisfied: packaging<25,>=20 in c:\\users\\ranal\\anaconda3\\envs\\llm\\lib\\site-packages (from streamlit) (24.1)\n",
      "Collecting pandas<3,>=1.3.0 (from streamlit)\n",
      "  Downloading pandas-2.2.2-cp311-cp311-win_amd64.whl.metadata (19 kB)\n",
      "Collecting pillow<11,>=7.1.0 (from streamlit)\n",
      "  Using cached pillow-10.4.0-cp311-cp311-win_amd64.whl.metadata (9.3 kB)\n",
      "Collecting protobuf<6,>=3.20 (from streamlit)\n",
      "  Downloading protobuf-5.27.2-cp310-abi3-win_amd64.whl.metadata (592 bytes)\n",
      "Collecting pyarrow>=7.0 (from streamlit)\n",
      "  Downloading pyarrow-16.1.0-cp311-cp311-win_amd64.whl.metadata (3.1 kB)\n",
      "Requirement already satisfied: requests<3,>=2.27 in c:\\users\\ranal\\anaconda3\\envs\\llm\\lib\\site-packages (from streamlit) (2.32.2)\n",
      "Collecting rich<14,>=10.14.0 (from streamlit)\n",
      "  Downloading rich-13.7.1-py3-none-any.whl.metadata (18 kB)\n",
      "Requirement already satisfied: tenacity<9,>=8.1.0 in c:\\users\\ranal\\anaconda3\\envs\\llm\\lib\\site-packages (from streamlit) (8.5.0)\n",
      "Collecting toml<2,>=0.10.1 (from streamlit)\n",
      "  Downloading toml-0.10.2-py2.py3-none-any.whl.metadata (7.1 kB)\n",
      "Requirement already satisfied: typing-extensions<5,>=4.3.0 in c:\\users\\ranal\\anaconda3\\envs\\llm\\lib\\site-packages (from streamlit) (4.11.0)\n",
      "Collecting gitpython!=3.1.19,<4,>=3.0.7 (from streamlit)\n",
      "  Downloading GitPython-3.1.43-py3-none-any.whl.metadata (13 kB)\n",
      "Collecting pydeck<1,>=0.8.0b4 (from streamlit)\n",
      "  Downloading pydeck-0.9.1-py2.py3-none-any.whl.metadata (4.1 kB)\n",
      "Requirement already satisfied: tornado<7,>=6.0.3 in c:\\users\\ranal\\anaconda3\\envs\\llm\\lib\\site-packages (from streamlit) (6.4.1)\n",
      "Collecting watchdog<5,>=2.1.5 (from streamlit)\n",
      "  Downloading watchdog-4.0.1-py3-none-win_amd64.whl.metadata (37 kB)\n",
      "Requirement already satisfied: jinja2 in c:\\users\\ranal\\anaconda3\\envs\\llm\\lib\\site-packages (from altair<6,>=4.0->streamlit) (3.1.4)\n",
      "Requirement already satisfied: jsonschema>=3.0 in c:\\users\\ranal\\anaconda3\\envs\\llm\\lib\\site-packages (from altair<6,>=4.0->streamlit) (4.19.2)\n",
      "Collecting toolz (from altair<6,>=4.0->streamlit)\n",
      "  Downloading toolz-0.12.1-py3-none-any.whl.metadata (5.1 kB)\n",
      "Requirement already satisfied: colorama in c:\\users\\ranal\\anaconda3\\envs\\llm\\lib\\site-packages (from click<9,>=7.0->streamlit) (0.4.6)\n",
      "Collecting gitdb<5,>=4.0.1 (from gitpython!=3.1.19,<4,>=3.0.7->streamlit)\n",
      "  Downloading gitdb-4.0.11-py3-none-any.whl.metadata (1.2 kB)\n",
      "Requirement already satisfied: python-dateutil>=2.8.2 in c:\\users\\ranal\\anaconda3\\envs\\llm\\lib\\site-packages (from pandas<3,>=1.3.0->streamlit) (2.9.0.post0)\n",
      "Requirement already satisfied: pytz>=2020.1 in c:\\users\\ranal\\anaconda3\\envs\\llm\\lib\\site-packages (from pandas<3,>=1.3.0->streamlit) (2024.1)\n",
      "Collecting tzdata>=2022.7 (from pandas<3,>=1.3.0->streamlit)\n",
      "  Downloading tzdata-2024.1-py2.py3-none-any.whl.metadata (1.4 kB)\n",
      "Requirement already satisfied: charset-normalizer<4,>=2 in c:\\users\\ranal\\anaconda3\\envs\\llm\\lib\\site-packages (from requests<3,>=2.27->streamlit) (2.0.4)\n",
      "Requirement already satisfied: idna<4,>=2.5 in c:\\users\\ranal\\anaconda3\\envs\\llm\\lib\\site-packages (from requests<3,>=2.27->streamlit) (3.7)\n",
      "Requirement already satisfied: urllib3<3,>=1.21.1 in c:\\users\\ranal\\anaconda3\\envs\\llm\\lib\\site-packages (from requests<3,>=2.27->streamlit) (2.2.2)\n",
      "Requirement already satisfied: certifi>=2017.4.17 in c:\\users\\ranal\\anaconda3\\envs\\llm\\lib\\site-packages (from requests<3,>=2.27->streamlit) (2024.6.2)\n",
      "Collecting markdown-it-py>=2.2.0 (from rich<14,>=10.14.0->streamlit)\n",
      "  Downloading markdown_it_py-3.0.0-py3-none-any.whl.metadata (6.9 kB)\n",
      "Requirement already satisfied: pygments<3.0.0,>=2.13.0 in c:\\users\\ranal\\anaconda3\\envs\\llm\\lib\\site-packages (from rich<14,>=10.14.0->streamlit) (2.15.1)\n",
      "Collecting smmap<6,>=3.0.1 (from gitdb<5,>=4.0.1->gitpython!=3.1.19,<4,>=3.0.7->streamlit)\n",
      "  Downloading smmap-5.0.1-py3-none-any.whl.metadata (4.3 kB)\n",
      "Requirement already satisfied: MarkupSafe>=2.0 in c:\\users\\ranal\\anaconda3\\envs\\llm\\lib\\site-packages (from jinja2->altair<6,>=4.0->streamlit) (2.1.3)\n",
      "Requirement already satisfied: attrs>=22.2.0 in c:\\users\\ranal\\anaconda3\\envs\\llm\\lib\\site-packages (from jsonschema>=3.0->altair<6,>=4.0->streamlit) (23.1.0)\n",
      "Requirement already satisfied: jsonschema-specifications>=2023.03.6 in c:\\users\\ranal\\anaconda3\\envs\\llm\\lib\\site-packages (from jsonschema>=3.0->altair<6,>=4.0->streamlit) (2023.7.1)\n",
      "Requirement already satisfied: referencing>=0.28.4 in c:\\users\\ranal\\anaconda3\\envs\\llm\\lib\\site-packages (from jsonschema>=3.0->altair<6,>=4.0->streamlit) (0.30.2)\n",
      "Requirement already satisfied: rpds-py>=0.7.1 in c:\\users\\ranal\\anaconda3\\envs\\llm\\lib\\site-packages (from jsonschema>=3.0->altair<6,>=4.0->streamlit) (0.10.6)\n",
      "Collecting mdurl~=0.1 (from markdown-it-py>=2.2.0->rich<14,>=10.14.0->streamlit)\n",
      "  Downloading mdurl-0.1.2-py3-none-any.whl.metadata (1.6 kB)\n",
      "Requirement already satisfied: six>=1.5 in c:\\users\\ranal\\anaconda3\\envs\\llm\\lib\\site-packages (from python-dateutil>=2.8.2->pandas<3,>=1.3.0->streamlit) (1.16.0)\n",
      "Downloading streamlit-1.36.0-py2.py3-none-any.whl (8.6 MB)\n",
      "   ---------------------------------------- 0.0/8.6 MB ? eta -:--:--\n",
      "   ---------------------------------------- 0.1/8.6 MB 5.5 MB/s eta 0:00:02\n",
      "   -- ------------------------------------- 0.5/8.6 MB 4.8 MB/s eta 0:00:02\n",
      "   ---- ----------------------------------- 0.9/8.6 MB 6.1 MB/s eta 0:00:02\n",
      "   ----- ---------------------------------- 1.2/8.6 MB 6.4 MB/s eta 0:00:02\n",
      "   ------- -------------------------------- 1.5/8.6 MB 6.5 MB/s eta 0:00:02\n",
      "   ------- -------------------------------- 1.5/8.6 MB 6.5 MB/s eta 0:00:02\n",
      "   -------- ------------------------------- 1.9/8.6 MB 5.7 MB/s eta 0:00:02\n",
      "   --------- ------------------------------ 2.1/8.6 MB 5.5 MB/s eta 0:00:02\n",
      "   --------- ------------------------------ 2.1/8.6 MB 5.4 MB/s eta 0:00:02\n",
      "   --------- ------------------------------ 2.1/8.6 MB 4.6 MB/s eta 0:00:02\n",
      "   ---------- ----------------------------- 2.3/8.6 MB 4.4 MB/s eta 0:00:02\n",
      "   ----------- ---------------------------- 2.4/8.6 MB 4.3 MB/s eta 0:00:02\n",
      "   ------------ --------------------------- 2.6/8.6 MB 4.3 MB/s eta 0:00:02\n",
      "   ------------ --------------------------- 2.8/8.6 MB 4.2 MB/s eta 0:00:02\n",
      "   -------------- ------------------------- 3.0/8.6 MB 4.3 MB/s eta 0:00:02\n",
      "   -------------- ------------------------- 3.2/8.6 MB 4.2 MB/s eta 0:00:02\n",
      "   --------------- ------------------------ 3.3/8.6 MB 4.2 MB/s eta 0:00:02\n",
      "   ---------------- ----------------------- 3.6/8.6 MB 4.3 MB/s eta 0:00:02\n",
      "   ----------------- ---------------------- 3.7/8.6 MB 4.3 MB/s eta 0:00:02\n",
      "   ------------------ --------------------- 3.9/8.6 MB 4.2 MB/s eta 0:00:02\n",
      "   ------------------ --------------------- 4.0/8.6 MB 4.1 MB/s eta 0:00:02\n",
      "   ------------------- -------------------- 4.2/8.6 MB 4.1 MB/s eta 0:00:02\n",
      "   -------------------- ------------------- 4.3/8.6 MB 4.1 MB/s eta 0:00:02\n",
      "   --------------------- ------------------ 4.5/8.6 MB 4.1 MB/s eta 0:00:02\n",
      "   ---------------------- ----------------- 4.8/8.6 MB 4.1 MB/s eta 0:00:01\n",
      "   ----------------------- ---------------- 5.1/8.6 MB 4.2 MB/s eta 0:00:01\n",
      "   ------------------------- -------------- 5.4/8.6 MB 4.3 MB/s eta 0:00:01\n",
      "   -------------------------- ------------- 5.7/8.6 MB 4.4 MB/s eta 0:00:01\n",
      "   --------------------------- ------------ 6.0/8.6 MB 4.5 MB/s eta 0:00:01\n",
      "   ----------------------------- ---------- 6.3/8.6 MB 4.6 MB/s eta 0:00:01\n",
      "   ------------------------------ --------- 6.7/8.6 MB 4.7 MB/s eta 0:00:01\n",
      "   -------------------------------- ------- 7.0/8.6 MB 4.7 MB/s eta 0:00:01\n",
      "   --------------------------------- ------ 7.3/8.6 MB 4.8 MB/s eta 0:00:01\n",
      "   ---------------------------------- ----- 7.4/8.6 MB 4.8 MB/s eta 0:00:01\n",
      "   ----------------------------------- ---- 7.6/8.6 MB 4.7 MB/s eta 0:00:01\n",
      "   ------------------------------------ --- 7.8/8.6 MB 4.7 MB/s eta 0:00:01\n",
      "   ------------------------------------- -- 8.0/8.6 MB 4.7 MB/s eta 0:00:01\n",
      "   ------------------------------------- -- 8.1/8.6 MB 4.7 MB/s eta 0:00:01\n",
      "   -------------------------------------- - 8.2/8.6 MB 4.6 MB/s eta 0:00:01\n",
      "   -------------------------------------- - 8.4/8.6 MB 4.6 MB/s eta 0:00:01\n",
      "   ---------------------------------------  8.5/8.6 MB 4.5 MB/s eta 0:00:01\n",
      "   ---------------------------------------  8.6/8.6 MB 4.5 MB/s eta 0:00:01\n",
      "   ---------------------------------------- 8.6/8.6 MB 4.5 MB/s eta 0:00:00\n",
      "Downloading altair-5.3.0-py3-none-any.whl (857 kB)\n",
      "   ---------------------------------------- 0.0/857.8 kB ? eta -:--:--\n",
      "   ----- ---------------------------------- 112.6/857.8 kB 6.8 MB/s eta 0:00:01\n",
      "   ----------- ---------------------------- 256.0/857.8 kB 3.2 MB/s eta 0:00:01\n",
      "   ------------------- -------------------- 409.6/857.8 kB 3.2 MB/s eta 0:00:01\n",
      "   ----------------------- ---------------- 512.0/857.8 kB 2.9 MB/s eta 0:00:01\n",
      "   ------------------------------ --------- 645.1/857.8 kB 2.9 MB/s eta 0:00:01\n",
      "   ------------------------------------ --- 778.2/857.8 kB 2.9 MB/s eta 0:00:01\n",
      "   ---------------------------------------- 857.8/857.8 kB 2.9 MB/s eta 0:00:00\n",
      "Downloading blinker-1.8.2-py3-none-any.whl (9.5 kB)\n",
      "Downloading cachetools-5.3.3-py3-none-any.whl (9.3 kB)\n",
      "Downloading click-8.1.7-py3-none-any.whl (97 kB)\n",
      "   ---------------------------------------- 0.0/97.9 kB ? eta -:--:--\n",
      "   ---------------- ----------------------- 41.0/97.9 kB 1.9 MB/s eta 0:00:01\n",
      "   ------------------------- -------------- 61.4/97.9 kB 825.8 kB/s eta 0:00:01\n",
      "   ---------------------------------------- 97.9/97.9 kB 804.6 kB/s eta 0:00:00\n",
      "Downloading GitPython-3.1.43-py3-none-any.whl (207 kB)\n",
      "   ---------------------------------------- 0.0/207.3 kB ? eta -:--:--\n",
      "   ----------------------- ---------------- 122.9/207.3 kB 2.4 MB/s eta 0:00:01\n",
      "   ---------------------------------------- 207.3/207.3 kB 2.5 MB/s eta 0:00:00\n",
      "Downloading pandas-2.2.2-cp311-cp311-win_amd64.whl (11.6 MB)\n",
      "   ---------------------------------------- 0.0/11.6 MB ? eta -:--:--\n",
      "   ---------------------------------------- 0.1/11.6 MB 3.5 MB/s eta 0:00:04\n",
      "    --------------------------------------- 0.3/11.6 MB 3.5 MB/s eta 0:00:04\n",
      "   - -------------------------------------- 0.5/11.6 MB 3.9 MB/s eta 0:00:03\n",
      "   -- ------------------------------------- 0.7/11.6 MB 3.8 MB/s eta 0:00:03\n",
      "   --- ------------------------------------ 0.9/11.6 MB 4.0 MB/s eta 0:00:03\n",
      "   --- ------------------------------------ 1.0/11.6 MB 4.1 MB/s eta 0:00:03\n",
      "   ---- ----------------------------------- 1.2/11.6 MB 4.0 MB/s eta 0:00:03\n",
      "   ---- ----------------------------------- 1.4/11.6 MB 4.0 MB/s eta 0:00:03\n",
      "   ----- ---------------------------------- 1.6/11.6 MB 4.0 MB/s eta 0:00:03\n",
      "   ------ --------------------------------- 1.8/11.6 MB 4.0 MB/s eta 0:00:03\n",
      "   ------- -------------------------------- 2.1/11.6 MB 4.2 MB/s eta 0:00:03\n",
      "   ------- -------------------------------- 2.3/11.6 MB 4.2 MB/s eta 0:00:03\n",
      "   -------- ------------------------------- 2.5/11.6 MB 4.3 MB/s eta 0:00:03\n",
      "   --------- ------------------------------ 2.8/11.6 MB 4.5 MB/s eta 0:00:02\n",
      "   ---------- ----------------------------- 3.1/11.6 MB 4.7 MB/s eta 0:00:02\n",
      "   ----------- ---------------------------- 3.4/11.6 MB 4.8 MB/s eta 0:00:02\n",
      "   ----------- ---------------------------- 3.4/11.6 MB 4.7 MB/s eta 0:00:02\n",
      "   ------------ --------------------------- 3.6/11.6 MB 4.5 MB/s eta 0:00:02\n",
      "   ------------- -------------------------- 3.9/11.6 MB 4.6 MB/s eta 0:00:02\n",
      "   ------------- -------------------------- 4.0/11.6 MB 4.5 MB/s eta 0:00:02\n",
      "   -------------- ------------------------- 4.2/11.6 MB 4.4 MB/s eta 0:00:02\n",
      "   -------------- ------------------------- 4.3/11.6 MB 4.4 MB/s eta 0:00:02\n",
      "   --------------- ------------------------ 4.6/11.6 MB 4.4 MB/s eta 0:00:02\n",
      "   ---------------- ----------------------- 4.8/11.6 MB 4.5 MB/s eta 0:00:02\n",
      "   ----------------- ---------------------- 5.2/11.6 MB 4.6 MB/s eta 0:00:02\n",
      "   ------------------ --------------------- 5.4/11.6 MB 4.6 MB/s eta 0:00:02\n",
      "   ------------------- -------------------- 5.8/11.6 MB 4.7 MB/s eta 0:00:02\n",
      "   -------------------- ------------------- 6.0/11.6 MB 4.8 MB/s eta 0:00:02\n",
      "   --------------------- ------------------ 6.4/11.6 MB 4.9 MB/s eta 0:00:02\n",
      "   ---------------------- ----------------- 6.6/11.6 MB 4.8 MB/s eta 0:00:02\n",
      "   ----------------------- ---------------- 6.8/11.6 MB 4.9 MB/s eta 0:00:01\n",
      "   ------------------------ --------------- 7.1/11.6 MB 4.9 MB/s eta 0:00:01\n",
      "   ------------------------- -------------- 7.5/11.6 MB 5.0 MB/s eta 0:00:01\n",
      "   -------------------------- ------------- 7.8/11.6 MB 5.0 MB/s eta 0:00:01\n",
      "   ---------------------------- ----------- 8.2/11.6 MB 5.1 MB/s eta 0:00:01\n",
      "   ----------------------------- ---------- 8.6/11.6 MB 5.2 MB/s eta 0:00:01\n",
      "   ------------------------------ --------- 8.8/11.6 MB 5.3 MB/s eta 0:00:01\n",
      "   ------------------------------- -------- 9.1/11.6 MB 5.3 MB/s eta 0:00:01\n",
      "   -------------------------------- ------- 9.5/11.6 MB 5.4 MB/s eta 0:00:01\n",
      "   ---------------------------------- ----- 9.9/11.6 MB 5.5 MB/s eta 0:00:01\n",
      "   ----------------------------------- ---- 10.3/11.6 MB 5.5 MB/s eta 0:00:01\n",
      "   ------------------------------------ --- 10.5/11.6 MB 5.6 MB/s eta 0:00:01\n",
      "   ------------------------------------- -- 10.9/11.6 MB 5.8 MB/s eta 0:00:01\n",
      "   -------------------------------------- - 11.3/11.6 MB 5.9 MB/s eta 0:00:01\n",
      "   ---------------------------------------  11.6/11.6 MB 6.0 MB/s eta 0:00:01\n",
      "   ---------------------------------------- 11.6/11.6 MB 5.9 MB/s eta 0:00:00\n",
      "Using cached pillow-10.4.0-cp311-cp311-win_amd64.whl (2.6 MB)\n",
      "Downloading protobuf-5.27.2-cp310-abi3-win_amd64.whl (426 kB)\n",
      "   ---------------------------------------- 0.0/426.9 kB ? eta -:--:--\n",
      "   ---------------------- ----------------- 235.5/426.9 kB 7.0 MB/s eta 0:00:01\n",
      "   ---------------------------------------- 426.9/426.9 kB 6.6 MB/s eta 0:00:00\n",
      "Downloading pyarrow-16.1.0-cp311-cp311-win_amd64.whl (25.9 MB)\n",
      "   ---------------------------------------- 0.0/25.9 MB ? eta -:--:--\n",
      "   ---------------------------------------- 0.0/25.9 MB ? eta -:--:--\n",
      "   ---------------------------------------- 0.2/25.9 MB 3.0 MB/s eta 0:00:09\n",
      "    --------------------------------------- 0.5/25.9 MB 4.0 MB/s eta 0:00:07\n",
      "    --------------------------------------- 0.5/25.9 MB 4.0 MB/s eta 0:00:07\n",
      "   - -------------------------------------- 0.7/25.9 MB 3.3 MB/s eta 0:00:08\n",
      "   - -------------------------------------- 0.9/25.9 MB 3.4 MB/s eta 0:00:08\n",
      "   - -------------------------------------- 1.2/25.9 MB 3.8 MB/s eta 0:00:07\n",
      "   -- ------------------------------------- 1.5/25.9 MB 4.1 MB/s eta 0:00:06\n",
      "   -- ------------------------------------- 1.8/25.9 MB 4.3 MB/s eta 0:00:06\n",
      "   --- ------------------------------------ 2.2/25.9 MB 4.8 MB/s eta 0:00:05\n",
      "   --- ------------------------------------ 2.4/25.9 MB 5.0 MB/s eta 0:00:05\n",
      "   ---- ----------------------------------- 2.7/25.9 MB 5.0 MB/s eta 0:00:05\n",
      "   ---- ----------------------------------- 3.0/25.9 MB 5.2 MB/s eta 0:00:05\n",
      "   ----- ---------------------------------- 3.4/25.9 MB 5.5 MB/s eta 0:00:05\n",
      "   ----- ---------------------------------- 3.6/25.9 MB 5.3 MB/s eta 0:00:05\n",
      "   ------ --------------------------------- 3.9/25.9 MB 5.5 MB/s eta 0:00:05\n",
      "   ------ --------------------------------- 4.3/25.9 MB 5.5 MB/s eta 0:00:04\n",
      "   ------- -------------------------------- 4.7/25.9 MB 5.8 MB/s eta 0:00:04\n",
      "   ------- -------------------------------- 5.1/25.9 MB 5.9 MB/s eta 0:00:04\n",
      "   -------- ------------------------------- 5.4/25.9 MB 6.0 MB/s eta 0:00:04\n",
      "   --------- ------------------------------ 5.8/25.9 MB 6.1 MB/s eta 0:00:04\n",
      "   --------- ------------------------------ 6.2/25.9 MB 6.1 MB/s eta 0:00:04\n",
      "   ---------- ----------------------------- 6.6/25.9 MB 6.4 MB/s eta 0:00:04\n",
      "   ---------- ----------------------------- 7.0/25.9 MB 6.4 MB/s eta 0:00:03\n",
      "   ----------- ---------------------------- 7.3/25.9 MB 6.5 MB/s eta 0:00:03\n",
      "   ----------- ---------------------------- 7.7/25.9 MB 6.6 MB/s eta 0:00:03\n",
      "   ------------ --------------------------- 8.2/25.9 MB 6.7 MB/s eta 0:00:03\n",
      "   ------------ --------------------------- 8.3/25.9 MB 6.6 MB/s eta 0:00:03\n",
      "   ------------- -------------------------- 8.8/25.9 MB 6.7 MB/s eta 0:00:03\n",
      "   -------------- ------------------------- 9.2/25.9 MB 6.8 MB/s eta 0:00:03\n",
      "   -------------- ------------------------- 9.6/25.9 MB 6.8 MB/s eta 0:00:03\n",
      "   --------------- ------------------------ 10.1/25.9 MB 6.9 MB/s eta 0:00:03\n",
      "   ---------------- ----------------------- 10.7/25.9 MB 7.4 MB/s eta 0:00:03\n",
      "   ----------------- ---------------------- 11.1/25.9 MB 8.0 MB/s eta 0:00:02\n",
      "   ----------------- ---------------------- 11.6/25.9 MB 8.2 MB/s eta 0:00:02\n",
      "   ------------------ --------------------- 12.0/25.9 MB 8.3 MB/s eta 0:00:02\n",
      "   ------------------- -------------------- 12.3/25.9 MB 8.3 MB/s eta 0:00:02\n",
      "   ------------------- -------------------- 12.9/25.9 MB 8.4 MB/s eta 0:00:02\n",
      "   -------------------- ------------------- 13.4/25.9 MB 8.7 MB/s eta 0:00:02\n",
      "   --------------------- ------------------ 13.8/25.9 MB 9.1 MB/s eta 0:00:02\n",
      "   ---------------------- ----------------- 14.4/25.9 MB 9.2 MB/s eta 0:00:02\n",
      "   ---------------------- ----------------- 14.8/25.9 MB 9.2 MB/s eta 0:00:02\n",
      "   ----------------------- ---------------- 15.4/25.9 MB 9.5 MB/s eta 0:00:02\n",
      "   ------------------------ --------------- 15.9/25.9 MB 9.6 MB/s eta 0:00:02\n",
      "   ------------------------- -------------- 16.5/25.9 MB 9.9 MB/s eta 0:00:01\n",
      "   -------------------------- ------------- 17.2/25.9 MB 10.1 MB/s eta 0:00:01\n",
      "   -------------------------- ------------- 17.4/25.9 MB 10.1 MB/s eta 0:00:01\n",
      "   --------------------------- ------------ 17.9/25.9 MB 10.2 MB/s eta 0:00:01\n",
      "   ---------------------------- ----------- 18.4/25.9 MB 10.2 MB/s eta 0:00:01\n",
      "   ----------------------------- ---------- 19.0/25.9 MB 10.7 MB/s eta 0:00:01\n",
      "   ----------------------------- ---------- 19.3/25.9 MB 10.6 MB/s eta 0:00:01\n",
      "   ------------------------------ --------- 19.9/25.9 MB 10.7 MB/s eta 0:00:01\n",
      "   ------------------------------- -------- 20.5/25.9 MB 10.9 MB/s eta 0:00:01\n",
      "   -------------------------------- ------- 21.0/25.9 MB 10.9 MB/s eta 0:00:01\n",
      "   --------------------------------- ------ 21.5/25.9 MB 10.9 MB/s eta 0:00:01\n",
      "   --------------------------------- ------ 22.0/25.9 MB 11.1 MB/s eta 0:00:01\n",
      "   ---------------------------------- ----- 22.5/25.9 MB 11.1 MB/s eta 0:00:01\n",
      "   ----------------------------------- ---- 23.1/25.9 MB 11.3 MB/s eta 0:00:01\n",
      "   ------------------------------------ --- 23.5/25.9 MB 11.1 MB/s eta 0:00:01\n",
      "   ------------------------------------ --- 23.6/25.9 MB 10.9 MB/s eta 0:00:01\n",
      "   ------------------------------------- -- 24.1/25.9 MB 10.6 MB/s eta 0:00:01\n",
      "   -------------------------------------- - 24.7/25.9 MB 10.7 MB/s eta 0:00:01\n",
      "   ---------------------------------------  25.3/25.9 MB 10.9 MB/s eta 0:00:01\n",
      "   ---------------------------------------  25.9/25.9 MB 11.1 MB/s eta 0:00:01\n",
      "   ---------------------------------------  25.9/25.9 MB 11.1 MB/s eta 0:00:01\n",
      "   ---------------------------------------- 25.9/25.9 MB 10.4 MB/s eta 0:00:00\n",
      "Downloading pydeck-0.9.1-py2.py3-none-any.whl (6.9 MB)\n",
      "   ---------------------------------------- 0.0/6.9 MB ? eta -:--:--\n",
      "   --- ------------------------------------ 0.6/6.9 MB 12.2 MB/s eta 0:00:01\n",
      "   ------ --------------------------------- 1.1/6.9 MB 13.9 MB/s eta 0:00:01\n",
      "   ---------- ----------------------------- 1.7/6.9 MB 12.2 MB/s eta 0:00:01\n",
      "   -------------- ------------------------- 2.4/6.9 MB 12.8 MB/s eta 0:00:01\n",
      "   ----------------- ---------------------- 3.0/6.9 MB 13.0 MB/s eta 0:00:01\n",
      "   --------------------- ------------------ 3.7/6.9 MB 13.0 MB/s eta 0:00:01\n",
      "   ------------------------ --------------- 4.2/6.9 MB 12.8 MB/s eta 0:00:01\n",
      "   --------------------------- ------------ 4.7/6.9 MB 12.6 MB/s eta 0:00:01\n",
      "   ------------------------------- -------- 5.4/6.9 MB 12.9 MB/s eta 0:00:01\n",
      "   ----------------------------------- ---- 6.2/6.9 MB 13.1 MB/s eta 0:00:01\n",
      "   -------------------------------------- - 6.7/6.9 MB 13.4 MB/s eta 0:00:01\n",
      "   ---------------------------------------- 6.9/6.9 MB 12.6 MB/s eta 0:00:00\n",
      "Downloading rich-13.7.1-py3-none-any.whl (240 kB)\n",
      "   ---------------------------------------- 0.0/240.7 kB ? eta -:--:--\n",
      "   ---------------------------------------- 240.7/240.7 kB 7.4 MB/s eta 0:00:00\n",
      "Downloading toml-0.10.2-py2.py3-none-any.whl (16 kB)\n",
      "Downloading watchdog-4.0.1-py3-none-win_amd64.whl (83 kB)\n",
      "   ---------------------------------------- 0.0/83.0 kB ? eta -:--:--\n",
      "   ---------------------------------------- 83.0/83.0 kB 4.9 MB/s eta 0:00:00\n",
      "Downloading gitdb-4.0.11-py3-none-any.whl (62 kB)\n",
      "   ---------------------------------------- 0.0/62.7 kB ? eta -:--:--\n",
      "   ---------------------------------------- 62.7/62.7 kB 3.3 MB/s eta 0:00:00\n",
      "Downloading markdown_it_py-3.0.0-py3-none-any.whl (87 kB)\n",
      "   ---------------------------------------- 0.0/87.5 kB ? eta -:--:--\n",
      "   ---------------------------------------- 87.5/87.5 kB ? eta 0:00:00\n",
      "Downloading tzdata-2024.1-py2.py3-none-any.whl (345 kB)\n",
      "   ---------------------------------------- 0.0/345.4 kB ? eta -:--:--\n",
      "   --------------------------------------- 345.4/345.4 kB 10.5 MB/s eta 0:00:00\n",
      "Downloading toolz-0.12.1-py3-none-any.whl (56 kB)\n",
      "   ---------------------------------------- 0.0/56.1 kB ? eta -:--:--\n",
      "   ---------------------------------------- 56.1/56.1 kB 2.9 MB/s eta 0:00:00\n",
      "Downloading mdurl-0.1.2-py3-none-any.whl (10.0 kB)\n",
      "Downloading smmap-5.0.1-py3-none-any.whl (24 kB)\n",
      "Installing collected packages: watchdog, tzdata, toolz, toml, smmap, pyarrow, protobuf, pillow, mdurl, click, cachetools, blinker, pydeck, pandas, markdown-it-py, gitdb, rich, gitpython, altair, streamlit\n",
      "Successfully installed altair-5.3.0 blinker-1.8.2 cachetools-5.3.3 click-8.1.7 gitdb-4.0.11 gitpython-3.1.43 markdown-it-py-3.0.0 mdurl-0.1.2 pandas-2.2.2 pillow-10.4.0 protobuf-5.27.2 pyarrow-16.1.0 pydeck-0.9.1 rich-13.7.1 smmap-5.0.1 streamlit-1.36.0 toml-0.10.2 toolz-0.12.1 tzdata-2024.1 watchdog-4.0.1\n"
     ]
    }
   ],
   "source": [
    "!pip install langchain\n",
    "!pip install langchain_community\n",
    "!pip install openai\n",
    "!pip install streamlit\n",
    "!pip install wikipedia\n",
    "!pip install pip install numexpr"
   ]
  },
  {
   "cell_type": "markdown",
   "id": "24ae108c-42a5-4088-a969-57f42278544e",
   "metadata": {},
   "source": [
    "# Imports"
   ]
  },
  {
   "cell_type": "code",
   "execution_count": 1,
   "id": "8b35348c-0a68-4f45-82a7-3816962cad99",
   "metadata": {},
   "outputs": [],
   "source": [
    "import os\n",
    "# Importing the openapi_key from a file named secret_key\n",
    "from secret_key import openapi_key\n",
    "from langchain.llms import OpenAI\n",
    "from langchain.prompts import PromptTemplate\n",
    "from langchain.chains import LLMChain , SimpleSequentialChain , SequentialChain\n",
    "from langchain.agents import AgentType, initialize_agent, load_tools\n",
    "import re"
   ]
  },
  {
   "cell_type": "markdown",
   "id": "f075cd47-75c5-4105-9870-5a48a5ec3971",
   "metadata": {},
   "source": [
    "# Setup"
   ]
  },
  {
   "cell_type": "markdown",
   "id": "7f2680b1-e881-427a-89ad-2230db8827a0",
   "metadata": {},
   "source": [
    "### Setting the OpenAI API key as an environment variable"
   ]
  },
  {
   "cell_type": "code",
   "execution_count": 2,
   "id": "4b760a60-c851-401c-b8ab-2b1c75b4391f",
   "metadata": {},
   "outputs": [],
   "source": [
    "os.environ['OPENAI_API_KEY'] = openapi_key"
   ]
  },
  {
   "cell_type": "markdown",
   "id": "a358d2a1-d302-46c5-8e1c-a98a11426119",
   "metadata": {},
   "source": [
    "### Initialize the language model with a temperature setting of 0.6"
   ]
  },
  {
   "cell_type": "code",
   "execution_count": null,
   "id": "b03b1f6c-e84d-458c-a173-189283c0e1e1",
   "metadata": {},
   "outputs": [],
   "source": [
    "# Initializing an instance of the OpenAI class with a temperature setting of 0.6\n",
    "# The temperature setting controls the randomness of the model's output\n",
    "# Lower temperature means more deterministic and safer responses\n",
    "# Higher temperature means more creative and varied responses\n",
    "llm = OpenAI(temperature=.6)"
   ]
  },
  {
   "cell_type": "markdown",
   "id": "f1040651-9bd2-404a-9257-1320bab56977",
   "metadata": {},
   "source": [
    "## Single input"
   ]
  },
  {
   "cell_type": "code",
   "execution_count": 19,
   "id": "c6c29c07-7d18-47cf-b2ca-b863488d81a9",
   "metadata": {},
   "outputs": [
    {
     "name": "stdout",
     "output_type": "stream",
     "text": [
      "\n",
      "\n",
      "1. Williamsburg - Known for its vibrant arts and music scene, trendy restaurants and bars, and unique street art.\n",
      "\n",
      "2. Park Slope - A family-friendly neighborhood with beautiful brownstone homes, tree-lined streets, and plenty of parks and green spaces.\n",
      "\n",
      "3. DUMBO - An acronym for Down Under the Manhattan Bridge Overpass, this neighborhood offers stunning views of the Manhattan skyline, along with trendy cafes, galleries, and shops.\n",
      "\n",
      "4. Brooklyn Heights - One of the oldest neighborhoods in Brooklyn, known for its historic brownstones, tree-lined streets, and beautiful views of the Manhattan skyline.\n",
      "\n",
      "5. Bushwick - A diverse and rapidly gentrifying neighborhood, known for its vibrant street art, hipster bars and restaurants, and creative community.\n",
      "\n",
      "6. Greenpoint - A largely Polish neighborhood with a growing arts and food scene, as well as beautiful waterfront parks and views of Manhattan.\n",
      "\n",
      "7. Cobble Hill - A charming neighborhood with historic brownstones, trendy boutiques and restaurants, and a thriving community feel.\n",
      "\n",
      "8. Red Hook - A waterfront neighborhood with a strong industrial history, now home to a growing art scene, trendy bars and restaurants, and stunning views of the Statue of Liberty.\n",
      "\n",
      "9. Prospect Heights - A diverse neighborhood with a mix of historic\n"
     ]
    }
   ],
   "source": [
    "# Defining the input prompt for the model\n",
    "Input = \"What are the best neighborhoods to explore in Brooklyn?\"\n",
    "\n",
    "# Generating a response from the model based on the input prompt\n",
    "response = llm(Input)\n",
    "\n",
    "# Printing the generated response to the console\n",
    "print(response)"
   ]
  },
  {
   "cell_type": "markdown",
   "id": "cca2bfc0-15fb-4e7c-aa51-bd690a40ac11",
   "metadata": {},
   "source": [
    "## Basic Prompt Template"
   ]
  },
  {
   "cell_type": "markdown",
   "id": "8c006bf7-5e7a-4d2a-894f-1586b9153222",
   "metadata": {},
   "source": [
    "### Define the prompt template for neighborhood suggestions"
   ]
  },
  {
   "cell_type": "code",
   "execution_count": 39,
   "id": "66060aac-fa5f-4bd8-af85-257cd460e824",
   "metadata": {},
   "outputs": [
    {
     "data": {
      "text/plain": [
       "'What are the best neighborhoods to explore in Miami?'"
      ]
     },
     "execution_count": 39,
     "metadata": {},
     "output_type": "execute_result"
    }
   ],
   "source": [
    "prompt_template_name = PromptTemplate(\n",
    "    input_variables = ['city'],\n",
    "    template = \"What are the best neighborhoods to explore in {city}?\"\n",
    ")\n",
    "\n",
    "prompt_template_name.format(city=\"Miami\")"
   ]
  },
  {
   "cell_type": "markdown",
   "id": "547dd22a-0652-4f4d-b8a7-1165ef262ae3",
   "metadata": {},
   "source": [
    "### Define the LLM Chain for neighborhood suggestions"
   ]
  },
  {
   "cell_type": "code",
   "execution_count": 40,
   "id": "a6b49015-da77-44a3-8344-008932a14fe1",
   "metadata": {},
   "outputs": [],
   "source": [
    "chain = LLMChain(llm=llm, prompt=prompt_template_name)"
   ]
  },
  {
   "cell_type": "markdown",
   "id": "d9b1e00c-33e3-4989-b578-862d0d0be6ab",
   "metadata": {},
   "source": [
    "### Prompt the user for input and run the chain"
   ]
  },
  {
   "cell_type": "code",
   "execution_count": 41,
   "id": "717c7d4c-c0bd-4ec3-8b87-c6c336598bf5",
   "metadata": {},
   "outputs": [
    {
     "name": "stdin",
     "output_type": "stream",
     "text": [
      "Enter a city:  LA\n"
     ]
    },
    {
     "name": "stdout",
     "output_type": "stream",
     "text": [
      "\n",
      "\n",
      "1. Downtown Los Angeles\n",
      "2. Hollywood\n",
      "3. Beverly Hills\n",
      "4. Santa Monica\n",
      "5. Venice Beach\n",
      "6. Silver Lake\n",
      "7. West Hollywood\n",
      "8. Echo Park\n",
      "9. Los Feliz\n",
      "10. Koreatown\n",
      "11. Malibu\n",
      "12. Pasadena\n",
      "13. Culver City\n",
      "14. Marina del Rey\n",
      "15. Westwood.\n"
     ]
    }
   ],
   "source": [
    "# Prompt the user for input\n",
    "user_input = input(\"Enter a city: \")\n",
    "\n",
    "# Run the chain with the user's input for the 'city' variable\n",
    "response = chain.run(user_input)\n",
    "\n",
    "# Printing the generated response to the console\n",
    "print(response)"
   ]
  },
  {
   "cell_type": "markdown",
   "id": "0f79e771-1b90-4cc9-9f7f-ea9ef45ea314",
   "metadata": {},
   "source": [
    "# Sequential Chain"
   ]
  },
  {
   "cell_type": "markdown",
   "id": "36793b3b-3715-4495-bd23-bf80504ee841",
   "metadata": {},
   "source": [
    "## Simple Sequential Chain"
   ]
  },
  {
   "cell_type": "markdown",
   "id": "fa8bd0f0-c30c-4f3a-8f02-046a3ab45a97",
   "metadata": {},
   "source": [
    "### Define the prompt templates for stay and itinerary suggestions"
   ]
  },
  {
   "cell_type": "code",
   "execution_count": 26,
   "id": "7eeef263-4752-4979-ab18-adb138dde844",
   "metadata": {},
   "outputs": [],
   "source": [
    "# Define the prompt templates\n",
    "stay_prompt_template_name = PromptTemplate(\n",
    "    input_variables=['city'],\n",
    "    template=\"Can you suggest a nice place to stay in {city} for the weekend?\"\n",
    ")\n",
    "\n",
    "itinerary_prompt_template_name = PromptTemplate(\n",
    "    input_variables=['city'],\n",
    "    template=\"Can you recommend a good travel itinerary for {city}?\"\n",
    ")"
   ]
  },
  {
   "cell_type": "markdown",
   "id": "806dfa66-a30a-4e76-a7c8-da279a6afe8d",
   "metadata": {},
   "source": [
    "### Define the LLM Chains for stay and itinerary"
   ]
  },
  {
   "cell_type": "code",
   "execution_count": 27,
   "id": "9d1067ca-98e8-43b4-8096-f78774aa3134",
   "metadata": {},
   "outputs": [],
   "source": [
    "# Define the LLM Chains\n",
    "stay_chain = LLMChain(llm=llm, prompt=stay_prompt_template_name)\n",
    "itinerary_chain = LLMChain(llm=llm, prompt=itinerary_prompt_template_name)"
   ]
  },
  {
   "cell_type": "markdown",
   "id": "8bbf738f-e3b5-4dd6-b152-7fe78973dede",
   "metadata": {},
   "source": [
    "### Combine the chains into a Simple Sequential Chain"
   ]
  },
  {
   "cell_type": "code",
   "execution_count": 28,
   "id": "e67cc155-621e-4a60-9ac5-5140f2d023ea",
   "metadata": {},
   "outputs": [],
   "source": [
    "# Combine the chains into a SimpleSequentialChain\n",
    "chain = SimpleSequentialChain(chains=[stay_chain, itinerary_chain])"
   ]
  },
  {
   "cell_type": "markdown",
   "id": "046ef1ca-4b29-41c4-adc7-b2ea9fa6e000",
   "metadata": {},
   "source": [
    "### Prompt the user for input and run the chain"
   ]
  },
  {
   "cell_type": "code",
   "execution_count": 29,
   "id": "27e293d1-aaa5-4665-89b8-ce18bf4ac3fb",
   "metadata": {},
   "outputs": [
    {
     "name": "stdin",
     "output_type": "stream",
     "text": [
      "Enter a city:  Philly\n"
     ]
    },
    {
     "name": "stdout",
     "output_type": "stream",
     "text": [
      "\n",
      "\n",
      "Day 1:\n",
      "- Check into The Rittenhouse Hotel and settle into your room or suite.\n",
      "- Enjoy a relaxing afternoon at the hotel's spa, indulging in a massage or other treatments.\n",
      "- In the evening, dine at one of the hotel's on-site restaurants, such as Lacroix or Scarpetta, for a delicious meal.\n",
      "\n",
      "Day 2:\n",
      "- Start your day with a stroll through Rittenhouse Square, a beautiful park just steps away from the hotel.\n",
      "- Head to the Philadelphia Museum of Art, where you can spend the morning admiring the impressive collection of art and special exhibitions.\n",
      "- For lunch, try one of the many food trucks located around the city, offering a variety of tasty options.\n",
      "- In the afternoon, take a guided tour of the historic district, learning about the city's rich history and seeing landmarks such as Independence Hall and the Liberty Bell.\n",
      "- End the day with a rooftop dinner at Assembly, located on the top floor of The Logan hotel, offering stunning views of the city.\n",
      "\n",
      "Day 3:\n",
      "- Spend the morning exploring the Reading Terminal Market, a bustling indoor market with a wide selection of fresh produce, meats, and other goods.\n",
      "- For lunch, try a classic Philly cheesesteak at one of the\n"
     ]
    }
   ],
   "source": [
    "# Prompt the user for input\n",
    "user_input = input(\"Enter a city: \")\n",
    "\n",
    "# Run the chain with the user's input for the 'city' variable\n",
    "response = chain.run(user_input)\n",
    "\n",
    "# Printing the generated response to the console\n",
    "print(response)"
   ]
  },
  {
   "cell_type": "markdown",
   "id": "cebe17c5-a999-411a-b75f-1c6081ce965a",
   "metadata": {},
   "source": [
    "## Complex Sequential Chain"
   ]
  },
  {
   "cell_type": "markdown",
   "id": "66a18b00-4e75-4ab1-9ff1-612aaaa050ae",
   "metadata": {},
   "source": [
    "### Define the prompt templates for best times and attractions"
   ]
  },
  {
   "cell_type": "code",
   "execution_count": null,
   "id": "0e98b810-cba6-4d53-a485-b82b398dd43a",
   "metadata": {},
   "outputs": [],
   "source": [
    "# Define the prompt templates\n",
    "times_prompt_template = PromptTemplate(\n",
    "    input_variables=['city'],\n",
    "    template=\"What are the best times of year to visit {city}?\"\n",
    ")\n",
    "\n",
    "attractions_prompt_template = PromptTemplate(\n",
    "    input_variables=['city', 'best_time'],\n",
    "    template=\"Given that the best time to visit {city} is {best_time}, can you suggest the top attractions to see?\"\n",
    ")"
   ]
  },
  {
   "cell_type": "markdown",
   "id": "1abca020-30c8-4028-b92f-51535a19051b",
   "metadata": {},
   "source": [
    "### Define the LLM Chains for best times and attractions"
   ]
  },
  {
   "cell_type": "code",
   "execution_count": null,
   "id": "1929a48c-0488-4bb4-b097-2c1268d468c4",
   "metadata": {},
   "outputs": [],
   "source": [
    "# Define the LLM Chains\n",
    "times_chain = LLMChain(llm=llm, prompt=times_prompt_template, output_key=\"best_time\")\n",
    "attractions_chain = LLMChain(llm=llm, prompt=attractions_prompt_template, output_key=\"top_attractions\")"
   ]
  },
  {
   "cell_type": "markdown",
   "id": "693d7a32-d039-41f6-82bf-d36fd2dd3bc1",
   "metadata": {},
   "source": [
    "### Combine the chains into a SequentialChain"
   ]
  },
  {
   "cell_type": "code",
   "execution_count": null,
   "id": "68af2795-30a4-45cc-a3f7-298c0336718e",
   "metadata": {},
   "outputs": [],
   "source": [
    "# Combine the chains into a SequentialChain\n",
    "chain = SequentialChain(\n",
    "    chains=[times_chain, attractions_chain],\n",
    "    input_variables=['city'],\n",
    "    output_variables=[\"best_time\", \"top_attractions\"]\n",
    ")"
   ]
  },
  {
   "cell_type": "markdown",
   "id": "e11faf24-27a6-4bac-bb03-5e11a3df62b1",
   "metadata": {},
   "source": [
    "### Prompt the user for input and run the chain"
   ]
  },
  {
   "cell_type": "code",
   "execution_count": null,
   "id": "d3f186b1-29ac-4dc4-9d04-0eac0519642b",
   "metadata": {},
   "outputs": [],
   "source": [
    "# Prompt the user for input\n",
    "user_input = input(\"Enter a city: \")\n",
    "\n",
    "# Run the chain with the user's input for the 'city' variable\n",
    "response = chain({\"city\": user_input})\n",
    "\n",
    "# Printing the generated response to the console\n",
    "print(\"Best time to visit:\", response[\"best_time\"])\n",
    "print(\"Top attractions:\", response[\"top_attractions\"])"
   ]
  },
  {
   "cell_type": "markdown",
   "id": "2ed91722-d43e-4246-8c3e-42f0e8cb8aae",
   "metadata": {},
   "source": [
    "# Using an Agent"
   ]
  },
  {
   "cell_type": "markdown",
   "id": "8b4f480d-774f-43d8-a35f-2d53e4a4ee54",
   "metadata": {},
   "source": [
    "### Define the prompt templates"
   ]
  },
  {
   "cell_type": "code",
   "execution_count": 31,
   "id": "ee71271d-b36f-49ab-a4c4-da747066e534",
   "metadata": {},
   "outputs": [],
   "source": [
    "flight_cost_prompt_template = PromptTemplate(\n",
    "    input_variables=['city'],\n",
    "    template=\"What is the average cost of a flight to {city} from New York?\"\n",
    ")\n",
    "\n",
    "accommodation_cost_prompt_template = PromptTemplate(\n",
    "    input_variables=['city'],\n",
    "    template=\"What is the average daily cost of accommodation in {city}?\"\n",
    ")\n",
    "\n",
    "food_cost_prompt_template = PromptTemplate(\n",
    "    input_variables=['city'],\n",
    "    template=\"What is the average daily cost of food in {city}?\"\n",
    ")\n",
    "\n",
    "activities_cost_prompt_template = PromptTemplate(\n",
    "    input_variables=['city'],\n",
    "    template=\"What is the average daily cost of activities in {city}?\"\n",
    ")"
   ]
  },
  {
   "cell_type": "markdown",
   "id": "3953e0ea-0147-4084-9fb5-90b7cbf17291",
   "metadata": {},
   "source": [
    "### Define the LLM Chains"
   ]
  },
  {
   "cell_type": "code",
   "execution_count": 32,
   "id": "ec212c7a-f672-4a80-b231-0bb0ffc1b438",
   "metadata": {},
   "outputs": [],
   "source": [
    "flight_cost_chain = LLMChain(llm=llm, prompt=flight_cost_prompt_template)\n",
    "accommodation_cost_chain = LLMChain(llm=llm, prompt=accommodation_cost_prompt_template)\n",
    "food_cost_chain = LLMChain(llm=llm, prompt=food_cost_prompt_template)\n",
    "activities_cost_chain = LLMChain(llm=llm, prompt=activities_cost_prompt_template)"
   ]
  },
  {
   "cell_type": "markdown",
   "id": "1685cec1-e543-4f5c-afc2-63b3b6e5e87f",
   "metadata": {},
   "source": [
    "### Load tools relevant for vacation planning"
   ]
  },
  {
   "cell_type": "code",
   "execution_count": 33,
   "id": "ef5b6daf-7bcf-40d5-905d-5b1ebf0532ec",
   "metadata": {},
   "outputs": [],
   "source": [
    "tools = load_tools([\"wikipedia\"], llm=llm)"
   ]
  },
  {
   "cell_type": "markdown",
   "id": "93499140-2f8a-4664-8bdf-a7d47e9e9732",
   "metadata": {},
   "source": [
    "### Initialize the agent with the necessary tools"
   ]
  },
  {
   "cell_type": "code",
   "execution_count": 34,
   "id": "86f6659e-6180-4805-8004-24223a01a5f4",
   "metadata": {},
   "outputs": [],
   "source": [
    "agent = initialize_agent(\n",
    "    tools,\n",
    "    llm,\n",
    "    agent=AgentType.ZERO_SHOT_REACT_DESCRIPTION\n",
    ")"
   ]
  },
  {
   "cell_type": "markdown",
   "id": "6ad7d46f-68d4-46ad-87d0-b8ef16944994",
   "metadata": {},
   "source": [
    "### Define a function to extract cost from response using regex"
   ]
  },
  {
   "cell_type": "code",
   "execution_count": 35,
   "id": "6ea72fc9-eed9-451b-8eaf-d45a38316bf3",
   "metadata": {},
   "outputs": [],
   "source": [
    "def extract_cost(response_text):\n",
    "    costs = re.findall(r'\\$\\d+', response_text)\n",
    "    costs = [int(cost.strip('$')) for cost in costs]\n",
    "    if costs:\n",
    "        return sum(costs) / len(costs)\n",
    "    else:\n",
    "        return 0  # Default to 0 if no costs are found"
   ]
  },
  {
   "cell_type": "markdown",
   "id": "b07cb67d-7a4d-4101-93ba-dc4fcc0d2fd1",
   "metadata": {},
   "source": [
    "### Define a function to estimate costs"
   ]
  },
  {
   "cell_type": "code",
   "execution_count": 36,
   "id": "becb17a7-92b7-43f6-8db7-5e03090e6cfc",
   "metadata": {},
   "outputs": [],
   "source": [
    "def estimate_costs(city):\n",
    "    # Estimate costs using the Langchain agent\n",
    "    flight_cost_response = flight_cost_chain.run({\"city\": city})\n",
    "    accommodation_cost_response = accommodation_cost_chain.run({\"city\": city})\n",
    "    food_cost_response = food_cost_chain.run({\"city\": city})\n",
    "    activities_cost_response = activities_cost_chain.run({\"city\": city})\n",
    "\n",
    "    flight_cost = extract_cost(flight_cost_response)\n",
    "    accommodation_cost = extract_cost(accommodation_cost_response)\n",
    "    food_cost = extract_cost(food_cost_response)\n",
    "    activities_cost = extract_cost(activities_cost_response)\n",
    "\n",
    "    # Calculate the total estimated cost for a week-long stay and a 3-day weekend\n",
    "    total_week_cost = (\n",
    "        flight_cost +\n",
    "        (accommodation_cost * 7) +\n",
    "        (food_cost * 7) +\n",
    "        (activities_cost * 7)\n",
    "    )\n",
    "\n",
    "    total_weekend_cost = (\n",
    "        flight_cost +\n",
    "        (accommodation_cost * 3) +\n",
    "        (food_cost * 3) +\n",
    "        (activities_cost * 3)\n",
    "    )\n",
    "\n",
    "    # Display the results\n",
    "    print(f\"Estimated total cost for a week-long stay in {city}: ${total_week_cost:.2f}\")\n",
    "    print(f\"Estimated total cost for a 3-day weekend stay in {city}: ${total_weekend_cost:.2f}\")"
   ]
  },
  {
   "cell_type": "markdown",
   "id": "b3b4a2b0-b6c2-4306-b716-6e7ad66db891",
   "metadata": {},
   "source": [
    "### Example query for vacation planning"
   ]
  },
  {
   "cell_type": "code",
   "execution_count": 37,
   "id": "6a26b1f5-2c94-4a1e-89cf-80d0de4abfad",
   "metadata": {},
   "outputs": [
    {
     "name": "stderr",
     "output_type": "stream",
     "text": [
      "C:\\Users\\ranal\\anaconda3\\envs\\LLM\\Lib\\site-packages\\wikipedia\\wikipedia.py:389: GuessedAtParserWarning: No parser was explicitly specified, so I'm using the best available HTML parser for this system (\"lxml\"). This usually isn't a problem, but if you run this code on another system, or in a different virtual environment, it may use a different parser and behave differently.\n",
      "\n",
      "The code that caused this warning is on line 389 of the file C:\\Users\\ranal\\anaconda3\\envs\\LLM\\Lib\\site-packages\\wikipedia\\wikipedia.py. To get rid of this warning, pass the additional argument 'features=\"lxml\"' to the BeautifulSoup constructor.\n",
      "\n",
      "  lis = BeautifulSoup(html).find_all('li')\n"
     ]
    },
    {
     "data": {
      "text/plain": [
       "'The best times to visit Paris are generally in the spring (April-June) and fall (September-November) when the weather is mild and tourist crowds are smaller. The estimated cost for a week-long stay in Paris can vary depending on accommodations, activities, and dining choices, but a budget of around $1,000-$1,500 per person is a good estimate.'"
      ]
     },
     "execution_count": 37,
     "metadata": {},
     "output_type": "execute_result"
    }
   ],
   "source": [
    "city = \"Paris\"\n",
    "agent.run(f\"I want to plan a vacation to {city}. What are the best times to visit and what is the estimated cost for a week-long stay?\")"
   ]
  },
  {
   "cell_type": "markdown",
   "id": "c7314755-3d91-4418-aa70-23d06749fedd",
   "metadata": {},
   "source": [
    "### Estimate costs"
   ]
  },
  {
   "cell_type": "code",
   "execution_count": 38,
   "id": "90faa84c-f86f-4c3b-a449-63f4b73087b0",
   "metadata": {},
   "outputs": [
    {
     "name": "stdout",
     "output_type": "stream",
     "text": [
      "Estimated total cost for a week-long stay in Paris: $1750.00\n",
      "Estimated total cost for a 3-day weekend stay in Paris: $1150.00\n"
     ]
    }
   ],
   "source": [
    "estimate_costs(city)"
   ]
  }
 ],
 "metadata": {
  "kernelspec": {
   "display_name": "Python 3 (ipykernel)",
   "language": "python",
   "name": "python3"
  },
  "language_info": {
   "codemirror_mode": {
    "name": "ipython",
    "version": 3
   },
   "file_extension": ".py",
   "mimetype": "text/x-python",
   "name": "python",
   "nbconvert_exporter": "python",
   "pygments_lexer": "ipython3",
   "version": "3.11.9"
  }
 },
 "nbformat": 4,
 "nbformat_minor": 5
}
