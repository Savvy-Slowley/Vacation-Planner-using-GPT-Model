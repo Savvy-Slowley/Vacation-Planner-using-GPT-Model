{
 "cells": [
  {
   "cell_type": "markdown",
   "id": "66a18944-f031-4564-805c-0e2cb135d7b3",
   "metadata": {},
   "source": [
    "# Installs"
   ]
  },
  {
   "cell_type": "code",
   "execution_count": null,
   "id": "48a51968-a6d8-4790-8554-24ea1c8be59e",
   "metadata": {},
   "outputs": [],
   "source": [
    "!pip install langchain\n",
    "!pip install langchain_community\n",
    "!pip install openai\n",
    "!pip install streamlit\n",
    "!pip install wikipedia\n",
    "!pip install pip install numexpr"
   ]
  },
  {
   "cell_type": "markdown",
   "id": "24ae108c-42a5-4088-a969-57f42278544e",
   "metadata": {},
   "source": [
    "# Imports"
   ]
  },
  {
   "cell_type": "code",
   "execution_count": 1,
   "id": "8b35348c-0a68-4f45-82a7-3816962cad99",
   "metadata": {},
   "outputs": [],
   "source": [
    "import os\n",
    "# Importing the openapi_key from a file named secret_key\n",
    "from secret_key import openapi_key\n",
    "from langchain.llms import OpenAI\n",
    "from langchain.prompts import PromptTemplate\n",
    "from langchain.chains import LLMChain , SimpleSequentialChain , SequentialChain\n",
    "from langchain.agents import AgentType, initialize_agent, load_tools\n",
    "import re"
   ]
  },
  {
   "cell_type": "markdown",
   "id": "f075cd47-75c5-4105-9870-5a48a5ec3971",
   "metadata": {},
   "source": [
    "# Setup"
   ]
  },
  {
   "cell_type": "markdown",
   "id": "7f2680b1-e881-427a-89ad-2230db8827a0",
   "metadata": {},
   "source": [
    "### Setting the OpenAI API key as an environment variable"
   ]
  },
  {
   "cell_type": "code",
   "execution_count": 2,
   "id": "4b760a60-c851-401c-b8ab-2b1c75b4391f",
   "metadata": {},
   "outputs": [],
   "source": [
    "os.environ['OPENAI_API_KEY'] = openapi_key"
   ]
  },
  {
   "cell_type": "markdown",
   "id": "a358d2a1-d302-46c5-8e1c-a98a11426119",
   "metadata": {},
   "source": [
    "### Initialize the language model with a temperature setting of 0.6"
   ]
  },
  {
   "cell_type": "code",
   "execution_count": 3,
   "id": "b03b1f6c-e84d-458c-a173-189283c0e1e1",
   "metadata": {},
   "outputs": [
    {
     "name": "stderr",
     "output_type": "stream",
     "text": [
      "C:\\Users\\ranal\\anaconda3\\envs\\LLM\\Lib\\site-packages\\langchain_core\\_api\\deprecation.py:139: LangChainDeprecationWarning: The class `OpenAI` was deprecated in LangChain 0.0.10 and will be removed in 0.3.0. An updated version of the class exists in the langchain-openai package and should be used instead. To use it run `pip install -U langchain-openai` and import as `from langchain_openai import OpenAI`.\n",
      "  warn_deprecated(\n"
     ]
    }
   ],
   "source": [
    "# Initializing an instance of the OpenAI class with a temperature setting of 0.6\n",
    "# The temperature setting controls the randomness of the model's output\n",
    "# Lower temperature means more deterministic and safer responses\n",
    "# Higher temperature means more creative and varied responses\n",
    "llm = OpenAI(temperature=.6)"
   ]
  },
  {
   "cell_type": "markdown",
   "id": "f1040651-9bd2-404a-9257-1320bab56977",
   "metadata": {},
   "source": [
    "## Single input"
   ]
  },
  {
   "cell_type": "code",
   "execution_count": 4,
   "id": "c6c29c07-7d18-47cf-b2ca-b863488d81a9",
   "metadata": {},
   "outputs": [
    {
     "name": "stderr",
     "output_type": "stream",
     "text": [
      "C:\\Users\\ranal\\anaconda3\\envs\\LLM\\Lib\\site-packages\\langchain_core\\_api\\deprecation.py:139: LangChainDeprecationWarning: The method `BaseLLM.__call__` was deprecated in langchain-core 0.1.7 and will be removed in 0.3.0. Use invoke instead.\n",
      "  warn_deprecated(\n"
     ]
    },
    {
     "name": "stdout",
     "output_type": "stream",
     "text": [
      "\n",
      "\n",
      "1. Williamsburg: Known for its vibrant arts and music scene, Williamsburg is a popular neighborhood for young professionals and creatives. It also has a wide variety of trendy restaurants, bars, and shops.\n",
      "\n",
      "2. Park Slope: This family-friendly neighborhood is known for its beautiful brownstone buildings, tree-lined streets, and community feel. It also has a great selection of restaurants, cafes, and shops.\n",
      "\n",
      "3. DUMBO: Short for Down Under the Manhattan Bridge Overpass, this neighborhood is popular for its stunning views of the Manhattan skyline and its industrial-chic vibe. It is also home to many art galleries, trendy restaurants, and the iconic Brooklyn Bridge.\n",
      "\n",
      "4. Fort Greene: This historic neighborhood is known for its beautiful architecture, tree-lined streets, and diverse community. It also has a thriving cultural scene, with the Brooklyn Academy of Music and the Barclays Center located here.\n",
      "\n",
      "5. Greenpoint: This waterfront neighborhood has a strong Polish influence and is known for its charming cafes, boutique shops, and lively nightlife. It also offers great views of the Manhattan skyline.\n",
      "\n",
      "6. Cobble Hill: This quaint and charming neighborhood is filled with picturesque brownstone homes, cozy cafes, and independent shops. It is also home to the popular Brooklyn Heights Promenade\n"
     ]
    }
   ],
   "source": [
    "# Defining the input prompt for the model\n",
    "Input = \"What are the best neighborhoods to explore in Brooklyn?\"\n",
    "\n",
    "# Generating a response from the model based on the input prompt\n",
    "response = llm(Input)\n",
    "\n",
    "# Printing the generated response to the console\n",
    "print(response)"
   ]
  },
  {
   "cell_type": "markdown",
   "id": "cca2bfc0-15fb-4e7c-aa51-bd690a40ac11",
   "metadata": {},
   "source": [
    "## Basic Prompt Template"
   ]
  },
  {
   "cell_type": "markdown",
   "id": "8c006bf7-5e7a-4d2a-894f-1586b9153222",
   "metadata": {},
   "source": [
    "### Define the prompt template for neighborhood suggestions"
   ]
  },
  {
   "cell_type": "code",
   "execution_count": 5,
   "id": "66060aac-fa5f-4bd8-af85-257cd460e824",
   "metadata": {},
   "outputs": [
    {
     "data": {
      "text/plain": [
       "'What are the best neighborhoods to explore in Miami?'"
      ]
     },
     "execution_count": 5,
     "metadata": {},
     "output_type": "execute_result"
    }
   ],
   "source": [
    "prompt_template_name = PromptTemplate(\n",
    "    input_variables = ['city'],\n",
    "    template = \"What are the best neighborhoods to explore in {city}?\"\n",
    ")\n",
    "\n",
    "prompt_template_name.format(city=\"Miami\")"
   ]
  },
  {
   "cell_type": "markdown",
   "id": "547dd22a-0652-4f4d-b8a7-1165ef262ae3",
   "metadata": {},
   "source": [
    "### Define the LLM Chain for neighborhood suggestions"
   ]
  },
  {
   "cell_type": "code",
   "execution_count": 6,
   "id": "a6b49015-da77-44a3-8344-008932a14fe1",
   "metadata": {},
   "outputs": [
    {
     "name": "stderr",
     "output_type": "stream",
     "text": [
      "C:\\Users\\ranal\\anaconda3\\envs\\LLM\\Lib\\site-packages\\langchain_core\\_api\\deprecation.py:139: LangChainDeprecationWarning: The class `LLMChain` was deprecated in LangChain 0.1.17 and will be removed in 1.0. Use RunnableSequence, e.g., `prompt | llm` instead.\n",
      "  warn_deprecated(\n"
     ]
    }
   ],
   "source": [
    "chain = LLMChain(llm=llm, prompt=prompt_template_name)"
   ]
  },
  {
   "cell_type": "markdown",
   "id": "d9b1e00c-33e3-4989-b578-862d0d0be6ab",
   "metadata": {},
   "source": [
    "### Prompt the user for input and run the chain"
   ]
  },
  {
   "cell_type": "code",
   "execution_count": 7,
   "id": "717c7d4c-c0bd-4ec3-8b87-c6c336598bf5",
   "metadata": {},
   "outputs": [
    {
     "name": "stdin",
     "output_type": "stream",
     "text": [
      "Enter a city:  Philly\n"
     ]
    },
    {
     "name": "stderr",
     "output_type": "stream",
     "text": [
      "C:\\Users\\ranal\\anaconda3\\envs\\LLM\\Lib\\site-packages\\langchain_core\\_api\\deprecation.py:139: LangChainDeprecationWarning: The method `Chain.run` was deprecated in langchain 0.1.0 and will be removed in 0.3.0. Use invoke instead.\n",
      "  warn_deprecated(\n"
     ]
    },
    {
     "name": "stdout",
     "output_type": "stream",
     "text": [
      "\n",
      "\n",
      "1. Center City: This bustling neighborhood is the heart of Philadelphia and is home to many iconic landmarks such as City Hall, Love Park, and Rittenhouse Square. It also offers a variety of shopping, dining, and entertainment options.\n",
      "\n",
      "2. Old City: Known as the historic district, this neighborhood is where the Declaration of Independence was signed and is filled with cobblestone streets, colonial architecture, and numerous museums and galleries.\n",
      "\n",
      "3. University City: Home to the University of Pennsylvania and Drexel University, this neighborhood has a vibrant and youthful atmosphere with plenty of trendy restaurants, cafes, and shops.\n",
      "\n",
      "4. Fishtown: This up-and-coming neighborhood has a hip and artsy vibe with a mix of old and new establishments, including galleries, bars, and restaurants.\n",
      "\n",
      "5. Northern Liberties: A former industrial area turned trendy neighborhood, Northern Liberties is known for its lively bar and restaurant scene, as well as its street art and unique shops.\n",
      "\n",
      "6. Chestnut Hill: This charming neighborhood is known for its beautiful Victorian homes, boutique shops, and cozy cafes. It also has a thriving arts scene, with galleries and theaters.\n",
      "\n",
      "7. East Passyunk: This South Philly neighborhood is a foodie's paradise, with a wide variety of\n"
     ]
    }
   ],
   "source": [
    "# Prompt the user for input\n",
    "user_input = input(\"Enter a city: \")\n",
    "\n",
    "# Run the chain with the user's input for the 'city' variable\n",
    "response = chain.run(user_input)\n",
    "\n",
    "# Printing the generated response to the console\n",
    "print(response)"
   ]
  },
  {
   "cell_type": "markdown",
   "id": "0f79e771-1b90-4cc9-9f7f-ea9ef45ea314",
   "metadata": {},
   "source": [
    "# Sequential Chain"
   ]
  },
  {
   "cell_type": "markdown",
   "id": "36793b3b-3715-4495-bd23-bf80504ee841",
   "metadata": {},
   "source": [
    "## Simple Sequential Chain"
   ]
  },
  {
   "cell_type": "markdown",
   "id": "fa8bd0f0-c30c-4f3a-8f02-046a3ab45a97",
   "metadata": {},
   "source": [
    "### Define the prompt templates for stay and itinerary suggestions"
   ]
  },
  {
   "cell_type": "code",
   "execution_count": 8,
   "id": "7eeef263-4752-4979-ab18-adb138dde844",
   "metadata": {},
   "outputs": [],
   "source": [
    "# Define the prompt templates\n",
    "stay_prompt_template_name = PromptTemplate(\n",
    "    input_variables=['city'],\n",
    "    template=\"Can you suggest a nice place to stay in {city} for the weekend?\"\n",
    ")\n",
    "\n",
    "itinerary_prompt_template_name = PromptTemplate(\n",
    "    input_variables=['city'],\n",
    "    template=\"Can you recommend a good travel itinerary for {city}?\"\n",
    ")"
   ]
  },
  {
   "cell_type": "markdown",
   "id": "806dfa66-a30a-4e76-a7c8-da279a6afe8d",
   "metadata": {},
   "source": [
    "### Define the LLM Chains for stay and itinerary"
   ]
  },
  {
   "cell_type": "code",
   "execution_count": 9,
   "id": "9d1067ca-98e8-43b4-8096-f78774aa3134",
   "metadata": {},
   "outputs": [],
   "source": [
    "# Define the LLM Chains\n",
    "stay_chain = LLMChain(llm=llm, prompt=stay_prompt_template_name)\n",
    "itinerary_chain = LLMChain(llm=llm, prompt=itinerary_prompt_template_name)"
   ]
  },
  {
   "cell_type": "markdown",
   "id": "8bbf738f-e3b5-4dd6-b152-7fe78973dede",
   "metadata": {},
   "source": [
    "### Combine the chains into a Simple Sequential Chain"
   ]
  },
  {
   "cell_type": "code",
   "execution_count": 10,
   "id": "e67cc155-621e-4a60-9ac5-5140f2d023ea",
   "metadata": {},
   "outputs": [],
   "source": [
    "# Combine the chains into a SimpleSequentialChain\n",
    "chain = SimpleSequentialChain(chains=[stay_chain, itinerary_chain])"
   ]
  },
  {
   "cell_type": "markdown",
   "id": "046ef1ca-4b29-41c4-adc7-b2ea9fa6e000",
   "metadata": {},
   "source": [
    "### Prompt the user for input and run the chain"
   ]
  },
  {
   "cell_type": "code",
   "execution_count": 11,
   "id": "27e293d1-aaa5-4665-89b8-ce18bf4ac3fb",
   "metadata": {},
   "outputs": [
    {
     "name": "stdin",
     "output_type": "stream",
     "text": [
      "Enter a city:  LA\n"
     ]
    },
    {
     "name": "stdout",
     "output_type": "stream",
     "text": [
      "\n",
      "\n",
      "Day 1:\n",
      "- Check into your hotel of choice and get settled in\n",
      "- Head to Rodeo Drive in Beverly Hills for some luxury shopping and people watching\n",
      "- Visit the iconic Hollywood Walk of Fame and take some photos with the stars\n",
      "- Have dinner at one of LA's famous restaurants, such as Spago or Nobu\n",
      "\n",
      "Day 2:\n",
      "- Start your day with a hike to the Hollywood Sign for some amazing views of the city\n",
      "- Visit the Getty Center for some art and culture\n",
      "- Spend the afternoon at Santa Monica Pier, with its amusement park rides and beachfront views\n",
      "- Have dinner at a trendy restaurant in Venice Beach, such as Gjelina or The Tasting Kitchen\n",
      "\n",
      "Day 3:\n",
      "- Take a tour of the Warner Bros. Studios or Universal Studios Hollywood for some behind-the-scenes Hollywood magic\n",
      "- Explore the trendy neighborhoods of Silver Lake and Echo Park, known for their hip restaurants, bars, and street art\n",
      "- Catch a show at the iconic Hollywood Bowl or a concert at the Staples Center\n",
      "- End your trip with a night out in Downtown LA, checking out the rooftop bars and vibrant nightlife scene.\n"
     ]
    }
   ],
   "source": [
    "# Prompt the user for input\n",
    "user_input = input(\"Enter a city: \")\n",
    "\n",
    "# Run the chain with the user's input for the 'city' variable\n",
    "response = chain.run(user_input)\n",
    "\n",
    "# Printing the generated response to the console\n",
    "print(response)"
   ]
  },
  {
   "cell_type": "markdown",
   "id": "cebe17c5-a999-411a-b75f-1c6081ce965a",
   "metadata": {},
   "source": [
    "## Complex Sequential Chain"
   ]
  },
  {
   "cell_type": "markdown",
   "id": "66a18b00-4e75-4ab1-9ff1-612aaaa050ae",
   "metadata": {},
   "source": [
    "### Define the prompt templates for best times and attractions"
   ]
  },
  {
   "cell_type": "code",
   "execution_count": 12,
   "id": "0e98b810-cba6-4d53-a485-b82b398dd43a",
   "metadata": {},
   "outputs": [],
   "source": [
    "# Define the prompt templates\n",
    "times_prompt_template = PromptTemplate(\n",
    "    input_variables=['city'],\n",
    "    template=\"What are the best times of year to visit {city}?\"\n",
    ")\n",
    "\n",
    "attractions_prompt_template = PromptTemplate(\n",
    "    input_variables=['city', 'best_time'],\n",
    "    template=\"Given that the best time to visit {city} is {best_time}, can you suggest the top attractions to see?\"\n",
    ")"
   ]
  },
  {
   "cell_type": "markdown",
   "id": "1abca020-30c8-4028-b92f-51535a19051b",
   "metadata": {},
   "source": [
    "### Define the LLM Chains for best times and attractions"
   ]
  },
  {
   "cell_type": "code",
   "execution_count": 13,
   "id": "1929a48c-0488-4bb4-b097-2c1268d468c4",
   "metadata": {},
   "outputs": [],
   "source": [
    "# Define the LLM Chains\n",
    "times_chain = LLMChain(llm=llm, prompt=times_prompt_template, output_key=\"best_time\")\n",
    "attractions_chain = LLMChain(llm=llm, prompt=attractions_prompt_template, output_key=\"top_attractions\")"
   ]
  },
  {
   "cell_type": "markdown",
   "id": "693d7a32-d039-41f6-82bf-d36fd2dd3bc1",
   "metadata": {},
   "source": [
    "### Combine the chains into a SequentialChain"
   ]
  },
  {
   "cell_type": "code",
   "execution_count": 14,
   "id": "68af2795-30a4-45cc-a3f7-298c0336718e",
   "metadata": {},
   "outputs": [],
   "source": [
    "# Combine the chains into a SequentialChain\n",
    "chain = SequentialChain(\n",
    "    chains=[times_chain, attractions_chain],\n",
    "    input_variables=['city'],\n",
    "    output_variables=[\"best_time\", \"top_attractions\"]\n",
    ")"
   ]
  },
  {
   "cell_type": "markdown",
   "id": "e11faf24-27a6-4bac-bb03-5e11a3df62b1",
   "metadata": {},
   "source": [
    "### Prompt the user for input and run the chain"
   ]
  },
  {
   "cell_type": "code",
   "execution_count": 15,
   "id": "d3f186b1-29ac-4dc4-9d04-0eac0519642b",
   "metadata": {},
   "outputs": [
    {
     "name": "stdin",
     "output_type": "stream",
     "text": [
      "Enter a city:  Tokyo\n"
     ]
    },
    {
     "name": "stderr",
     "output_type": "stream",
     "text": [
      "C:\\Users\\ranal\\anaconda3\\envs\\LLM\\Lib\\site-packages\\langchain_core\\_api\\deprecation.py:139: LangChainDeprecationWarning: The method `Chain.__call__` was deprecated in langchain 0.1.0 and will be removed in 0.3.0. Use invoke instead.\n",
      "  warn_deprecated(\n"
     ]
    },
    {
     "name": "stdout",
     "output_type": "stream",
     "text": [
      "Best time to visit: \n",
      "\n",
      "The best times of year to visit Tokyo are spring (March-May) and autumn (September-November). These seasons offer comfortable temperatures, beautiful cherry blossom and fall foliage viewing, and various cultural festivals and events. However, Tokyo can be enjoyed year-round and each season has its own unique charm. Summer (June-August) can be hot and humid, but it is also a great time to experience traditional summer festivals and enjoy outdoor activities. Winter (December-February) can be cold, but the city is adorned with beautiful holiday decorations and there are many indoor activities to enjoy.\n",
      "Top attractions: \n",
      "\n",
      "1. Tokyo Tower - iconic landmark and observation deck with views of the city\n",
      "2. Shibuya Crossing - famous intersection known for its crowds and neon lights\n",
      "3. Meiji Shrine - peaceful Shinto shrine in the heart of the city\n",
      "4. Sensoji Temple - oldest and most famous Buddhist temple in Tokyo\n",
      "5. Tsukiji Fish Market - bustling market known for its fresh seafood and sushi restaurants\n",
      "6. Akihabara - vibrant district known for its electronics and anime culture\n",
      "7. Shinjuku Gyoen National Garden - beautiful park with various gardens and seasonal flowers\n",
      "8. Tokyo Skytree - tallest tower in Japan with observation decks and shopping mall\n",
      "9. Harajuku - popular neighborhood known for its fashion, street food, and quirky shops\n",
      "10. Tokyo Disneyland and DisneySea - popular theme parks with unique attractions and shows.\n"
     ]
    }
   ],
   "source": [
    "# Prompt the user for input\n",
    "user_input = input(\"Enter a city: \")\n",
    "\n",
    "# Run the chain with the user's input for the 'city' variable\n",
    "response = chain({\"city\": user_input})\n",
    "\n",
    "# Printing the generated response to the console\n",
    "print(\"Best time to visit:\", response[\"best_time\"])\n",
    "print(\"Top attractions:\", response[\"top_attractions\"])"
   ]
  },
  {
   "cell_type": "markdown",
   "id": "2ed91722-d43e-4246-8c3e-42f0e8cb8aae",
   "metadata": {},
   "source": [
    "# Using an Agent"
   ]
  },
  {
   "cell_type": "markdown",
   "id": "8b4f480d-774f-43d8-a35f-2d53e4a4ee54",
   "metadata": {},
   "source": [
    "### Define the prompt templates"
   ]
  },
  {
   "cell_type": "code",
   "execution_count": 16,
   "id": "ee71271d-b36f-49ab-a4c4-da747066e534",
   "metadata": {},
   "outputs": [],
   "source": [
    "flight_cost_prompt_template = PromptTemplate(\n",
    "    input_variables=['city'],\n",
    "    template=\"What is the average cost of a flight to {city} from New York?\"\n",
    ")\n",
    "\n",
    "accommodation_cost_prompt_template = PromptTemplate(\n",
    "    input_variables=['city'],\n",
    "    template=\"What is the average daily cost of accommodation in {city}?\"\n",
    ")\n",
    "\n",
    "food_cost_prompt_template = PromptTemplate(\n",
    "    input_variables=['city'],\n",
    "    template=\"What is the average daily cost of food in {city}?\"\n",
    ")\n",
    "\n",
    "activities_cost_prompt_template = PromptTemplate(\n",
    "    input_variables=['city'],\n",
    "    template=\"What is the average daily cost of activities in {city}?\"\n",
    ")"
   ]
  },
  {
   "cell_type": "markdown",
   "id": "3953e0ea-0147-4084-9fb5-90b7cbf17291",
   "metadata": {},
   "source": [
    "### Define the LLM Chains"
   ]
  },
  {
   "cell_type": "code",
   "execution_count": 17,
   "id": "ec212c7a-f672-4a80-b231-0bb0ffc1b438",
   "metadata": {},
   "outputs": [],
   "source": [
    "flight_cost_chain = LLMChain(llm=llm, prompt=flight_cost_prompt_template)\n",
    "accommodation_cost_chain = LLMChain(llm=llm, prompt=accommodation_cost_prompt_template)\n",
    "food_cost_chain = LLMChain(llm=llm, prompt=food_cost_prompt_template)\n",
    "activities_cost_chain = LLMChain(llm=llm, prompt=activities_cost_prompt_template)"
   ]
  },
  {
   "cell_type": "markdown",
   "id": "1685cec1-e543-4f5c-afc2-63b3b6e5e87f",
   "metadata": {},
   "source": [
    "### Load tools relevant for vacation planning"
   ]
  },
  {
   "cell_type": "code",
   "execution_count": 18,
   "id": "ef5b6daf-7bcf-40d5-905d-5b1ebf0532ec",
   "metadata": {},
   "outputs": [],
   "source": [
    "tools = load_tools([\"wikipedia\"], llm=llm)"
   ]
  },
  {
   "cell_type": "markdown",
   "id": "93499140-2f8a-4664-8bdf-a7d47e9e9732",
   "metadata": {},
   "source": [
    "### Initialize the agent with the necessary tools"
   ]
  },
  {
   "cell_type": "code",
   "execution_count": 19,
   "id": "86f6659e-6180-4805-8004-24223a01a5f4",
   "metadata": {},
   "outputs": [
    {
     "name": "stderr",
     "output_type": "stream",
     "text": [
      "C:\\Users\\ranal\\anaconda3\\envs\\LLM\\Lib\\site-packages\\langchain_core\\_api\\deprecation.py:139: LangChainDeprecationWarning: The function `initialize_agent` was deprecated in LangChain 0.1.0 and will be removed in 0.3.0. Use Use new agent constructor methods like create_react_agent, create_json_agent, create_structured_chat_agent, etc. instead.\n",
      "  warn_deprecated(\n"
     ]
    }
   ],
   "source": [
    "agent = initialize_agent(\n",
    "    tools,\n",
    "    llm,\n",
    "    agent=AgentType.ZERO_SHOT_REACT_DESCRIPTION\n",
    ")"
   ]
  },
  {
   "cell_type": "markdown",
   "id": "6ad7d46f-68d4-46ad-87d0-b8ef16944994",
   "metadata": {},
   "source": [
    "### Define a function to extract cost from response using regex"
   ]
  },
  {
   "cell_type": "code",
   "execution_count": 20,
   "id": "6ea72fc9-eed9-451b-8eaf-d45a38316bf3",
   "metadata": {},
   "outputs": [],
   "source": [
    "def extract_cost(response_text):\n",
    "    costs = re.findall(r'\\$\\d+', response_text)\n",
    "    costs = [int(cost.strip('$')) for cost in costs]\n",
    "    if costs:\n",
    "        return sum(costs) / len(costs)\n",
    "    else:\n",
    "        return 0  # Default to 0 if no costs are found"
   ]
  },
  {
   "cell_type": "markdown",
   "id": "b07cb67d-7a4d-4101-93ba-dc4fcc0d2fd1",
   "metadata": {},
   "source": [
    "### Define a function to estimate costs"
   ]
  },
  {
   "cell_type": "code",
   "execution_count": 21,
   "id": "becb17a7-92b7-43f6-8db7-5e03090e6cfc",
   "metadata": {},
   "outputs": [],
   "source": [
    "def estimate_costs(city):\n",
    "    # Estimate costs using the Langchain agent\n",
    "    flight_cost_response = flight_cost_chain.run({\"city\": city})\n",
    "    accommodation_cost_response = accommodation_cost_chain.run({\"city\": city})\n",
    "    food_cost_response = food_cost_chain.run({\"city\": city})\n",
    "    activities_cost_response = activities_cost_chain.run({\"city\": city})\n",
    "\n",
    "    flight_cost = extract_cost(flight_cost_response)\n",
    "    accommodation_cost = extract_cost(accommodation_cost_response)\n",
    "    food_cost = extract_cost(food_cost_response)\n",
    "    activities_cost = extract_cost(activities_cost_response)\n",
    "\n",
    "    # Calculate the total estimated cost for a week-long stay and a 3-day weekend\n",
    "    total_week_cost = (\n",
    "        flight_cost +\n",
    "        (accommodation_cost * 7) +\n",
    "        (food_cost * 7) +\n",
    "        (activities_cost * 7)\n",
    "    )\n",
    "\n",
    "    total_weekend_cost = (\n",
    "        flight_cost +\n",
    "        (accommodation_cost * 3) +\n",
    "        (food_cost * 3) +\n",
    "        (activities_cost * 3)\n",
    "    )\n",
    "\n",
    "    # Display the results\n",
    "    print(f\"Estimated total cost for a week-long stay in {city}: ${total_week_cost:.2f}\")\n",
    "    print(f\"Estimated total cost for a 3-day weekend stay in {city}: ${total_weekend_cost:.2f}\")"
   ]
  },
  {
   "cell_type": "markdown",
   "id": "b3b4a2b0-b6c2-4306-b716-6e7ad66db891",
   "metadata": {},
   "source": [
    "### Example query for vacation planning"
   ]
  },
  {
   "cell_type": "code",
   "execution_count": 22,
   "id": "6a26b1f5-2c94-4a1e-89cf-80d0de4abfad",
   "metadata": {},
   "outputs": [
    {
     "data": {
      "text/plain": [
       "'The best times to visit Paris are in the spring and fall, and the estimated cost for a week-long stay can range from $1,500 to $3,000, depending on accommodations and activities.'"
      ]
     },
     "execution_count": 22,
     "metadata": {},
     "output_type": "execute_result"
    }
   ],
   "source": [
    "city = \"Paris\"\n",
    "agent.run(f\"I want to plan a vacation to {city}. What are the best times to visit and what is the estimated cost for a week-long stay?\")"
   ]
  },
  {
   "cell_type": "markdown",
   "id": "c7314755-3d91-4418-aa70-23d06749fedd",
   "metadata": {},
   "source": [
    "### Estimate costs"
   ]
  },
  {
   "cell_type": "code",
   "execution_count": 23,
   "id": "90faa84c-f86f-4c3b-a449-63f4b73087b0",
   "metadata": {},
   "outputs": [
    {
     "name": "stdout",
     "output_type": "stream",
     "text": [
      "Estimated total cost for a week-long stay in Paris: $1925.00\n",
      "Estimated total cost for a 3-day weekend stay in Paris: $1225.00\n"
     ]
    }
   ],
   "source": [
    "estimate_costs(city)"
   ]
  }
 ],
 "metadata": {
  "kernelspec": {
   "display_name": "Python 3 (ipykernel)",
   "language": "python",
   "name": "python3"
  },
  "language_info": {
   "codemirror_mode": {
    "name": "ipython",
    "version": 3
   },
   "file_extension": ".py",
   "mimetype": "text/x-python",
   "name": "python",
   "nbconvert_exporter": "python",
   "pygments_lexer": "ipython3",
   "version": "3.11.9"
  }
 },
 "nbformat": 4,
 "nbformat_minor": 5
}
