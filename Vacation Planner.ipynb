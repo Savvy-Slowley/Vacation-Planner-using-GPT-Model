{
 "cells": [
  {
   "cell_type": "markdown",
   "id": "66a18944-f031-4564-805c-0e2cb135d7b3",
   "metadata": {},
   "source": [
    "# Installs"
   ]
  },
  {
   "cell_type": "code",
   "execution_count": null,
   "id": "48a51968-a6d8-4790-8554-24ea1c8be59e",
   "metadata": {},
   "outputs": [],
   "source": [
    "!pip install langchain\n",
    "!pip install langchain_community\n",
    "!pip install openai\n",
    "!pip install streamlit\n",
    "!pip install wikipedia\n",
    "!pip install pip install numexpr"
   ]
  },
  {
   "cell_type": "markdown",
   "id": "24ae108c-42a5-4088-a969-57f42278544e",
   "metadata": {},
   "source": [
    "# Imports"
   ]
  },
  {
   "cell_type": "code",
   "execution_count": 1,
   "id": "8b35348c-0a68-4f45-82a7-3816962cad99",
   "metadata": {},
   "outputs": [],
   "source": [
    "import os\n",
    "from secret_key import openapi_key\n",
    "from langchain.llms import OpenAI\n",
    "from langchain.prompts import PromptTemplate\n",
    "from langchain.chains import LLMChain, SimpleSequentialChain, SequentialChain\n",
    "from langchain.agents import AgentType, initialize_agent, load_tools\n",
    "from langchain.memory import ConversationBufferMemory\n",
    "import re"
   ]
  },
  {
   "cell_type": "markdown",
   "id": "f075cd47-75c5-4105-9870-5a48a5ec3971",
   "metadata": {},
   "source": [
    "# Setup"
   ]
  },
  {
   "cell_type": "markdown",
   "id": "7f2680b1-e881-427a-89ad-2230db8827a0",
   "metadata": {},
   "source": [
    "### Setting the OpenAI API key as an environment variable"
   ]
  },
  {
   "cell_type": "code",
   "execution_count": 2,
   "id": "4b760a60-c851-401c-b8ab-2b1c75b4391f",
   "metadata": {},
   "outputs": [],
   "source": [
    "os.environ['OPENAI_API_KEY'] = openapi_key"
   ]
  },
  {
   "cell_type": "markdown",
   "id": "a358d2a1-d302-46c5-8e1c-a98a11426119",
   "metadata": {},
   "source": [
    "### Initialize the language model with a temperature setting of 0.6"
   ]
  },
  {
   "cell_type": "code",
   "execution_count": 3,
   "id": "b03b1f6c-e84d-458c-a173-189283c0e1e1",
   "metadata": {},
   "outputs": [
    {
     "name": "stderr",
     "output_type": "stream",
     "text": [
      "C:\\Users\\ranal\\anaconda3\\envs\\LLM\\Lib\\site-packages\\langchain_core\\_api\\deprecation.py:139: LangChainDeprecationWarning: The class `OpenAI` was deprecated in LangChain 0.0.10 and will be removed in 0.3.0. An updated version of the class exists in the langchain-openai package and should be used instead. To use it run `pip install -U langchain-openai` and import as `from langchain_openai import OpenAI`.\n",
      "  warn_deprecated(\n"
     ]
    }
   ],
   "source": [
    "# Initializing an instance of the OpenAI class with a temperature setting of 0.6\n",
    "# The temperature setting controls the randomness of the model's output\n",
    "# Lower temperature means more deterministic and safer responses\n",
    "# Higher temperature means more creative and varied responses\n",
    "llm = OpenAI(temperature=.6)"
   ]
  },
  {
   "cell_type": "markdown",
   "id": "f1040651-9bd2-404a-9257-1320bab56977",
   "metadata": {},
   "source": [
    "## Single input"
   ]
  },
  {
   "cell_type": "code",
   "execution_count": 4,
   "id": "c6c29c07-7d18-47cf-b2ca-b863488d81a9",
   "metadata": {},
   "outputs": [
    {
     "name": "stderr",
     "output_type": "stream",
     "text": [
      "C:\\Users\\ranal\\anaconda3\\envs\\LLM\\Lib\\site-packages\\langchain_core\\_api\\deprecation.py:139: LangChainDeprecationWarning: The method `BaseLLM.__call__` was deprecated in langchain-core 0.1.7 and will be removed in 0.3.0. Use invoke instead.\n",
      "  warn_deprecated(\n"
     ]
    },
    {
     "name": "stdout",
     "output_type": "stream",
     "text": [
      "\n",
      "\n",
      "1. Williamsburg - Known for its hipster vibe, Williamsburg is home to trendy restaurants, bars, and boutiques, as well as street art and a thriving music scene.\n",
      "\n",
      "2. Park Slope - A family-friendly neighborhood with beautiful brownstone homes, tree-lined streets, and a variety of restaurants and shops.\n",
      "\n",
      "3. DUMBO - Short for \"Down Under the Manhattan Bridge Overpass,\" this neighborhood offers stunning views of the Manhattan skyline, as well as art galleries, trendy restaurants, and the iconic Brooklyn Bridge.\n",
      "\n",
      "4. Brooklyn Heights - One of the oldest neighborhoods in Brooklyn, Brooklyn Heights is known for its historic brownstone homes, tree-lined streets, and charming shops and restaurants.\n",
      "\n",
      "5. Greenpoint - A diverse and rapidly gentrifying neighborhood, Greenpoint offers a mix of old-school Polish delis and trendy bars and restaurants, as well as beautiful waterfront views.\n",
      "\n",
      "6. Prospect Heights - Home to the Brooklyn Museum, Brooklyn Botanic Garden, and the Barclays Center, Prospect Heights is a cultural hub with a mix of residential and commercial areas.\n",
      "\n",
      "7. Red Hook - A waterfront neighborhood with a laid-back, industrial feel, Red Hook is home to artisanal shops, restaurants, and the popular Red Hook Food Market.\n",
      "\n",
      "8. Bushwick -\n"
     ]
    }
   ],
   "source": [
    "# Defining the input prompt for the model\n",
    "Input = \"What are the best neighborhoods to explore in Brooklyn?\"\n",
    "\n",
    "# Generating a response from the model based on the input prompt\n",
    "response = llm(Input)\n",
    "\n",
    "# Printing the generated response to the console\n",
    "print(response)"
   ]
  },
  {
   "cell_type": "markdown",
   "id": "cca2bfc0-15fb-4e7c-aa51-bd690a40ac11",
   "metadata": {},
   "source": [
    "## Basic Prompt Template"
   ]
  },
  {
   "cell_type": "markdown",
   "id": "8c006bf7-5e7a-4d2a-894f-1586b9153222",
   "metadata": {},
   "source": [
    "### Define the prompt template for neighborhood suggestions"
   ]
  },
  {
   "cell_type": "code",
   "execution_count": 5,
   "id": "66060aac-fa5f-4bd8-af85-257cd460e824",
   "metadata": {},
   "outputs": [
    {
     "data": {
      "text/plain": [
       "'What are the best neighborhoods to explore in Miami?'"
      ]
     },
     "execution_count": 5,
     "metadata": {},
     "output_type": "execute_result"
    }
   ],
   "source": [
    "prompt_template_name = PromptTemplate(\n",
    "    input_variables = ['city'],\n",
    "    template = \"What are the best neighborhoods to explore in {city}?\"\n",
    ")\n",
    "\n",
    "prompt_template_name.format(city=\"Miami\")"
   ]
  },
  {
   "cell_type": "markdown",
   "id": "547dd22a-0652-4f4d-b8a7-1165ef262ae3",
   "metadata": {},
   "source": [
    "### Define the LLM Chain for neighborhood suggestions"
   ]
  },
  {
   "cell_type": "code",
   "execution_count": 6,
   "id": "a6b49015-da77-44a3-8344-008932a14fe1",
   "metadata": {},
   "outputs": [
    {
     "name": "stderr",
     "output_type": "stream",
     "text": [
      "C:\\Users\\ranal\\anaconda3\\envs\\LLM\\Lib\\site-packages\\langchain_core\\_api\\deprecation.py:139: LangChainDeprecationWarning: The class `LLMChain` was deprecated in LangChain 0.1.17 and will be removed in 1.0. Use RunnableSequence, e.g., `prompt | llm` instead.\n",
      "  warn_deprecated(\n"
     ]
    }
   ],
   "source": [
    "chain = LLMChain(llm=llm, prompt=prompt_template_name)"
   ]
  },
  {
   "cell_type": "markdown",
   "id": "d9b1e00c-33e3-4989-b578-862d0d0be6ab",
   "metadata": {},
   "source": [
    "### Prompt the user for input and run the chain"
   ]
  },
  {
   "cell_type": "code",
   "execution_count": 7,
   "id": "717c7d4c-c0bd-4ec3-8b87-c6c336598bf5",
   "metadata": {},
   "outputs": [
    {
     "name": "stdin",
     "output_type": "stream",
     "text": [
      "Enter a city:  Philly\n"
     ]
    },
    {
     "name": "stderr",
     "output_type": "stream",
     "text": [
      "C:\\Users\\ranal\\anaconda3\\envs\\LLM\\Lib\\site-packages\\langchain_core\\_api\\deprecation.py:139: LangChainDeprecationWarning: The method `Chain.run` was deprecated in langchain 0.1.0 and will be removed in 0.3.0. Use invoke instead.\n",
      "  warn_deprecated(\n"
     ]
    },
    {
     "name": "stdout",
     "output_type": "stream",
     "text": [
      "\n",
      "\n",
      "1. Old City\n",
      "2. Rittenhouse Square\n",
      "3. Fishtown\n",
      "4. Northern Liberties\n",
      "5. University City\n",
      "6. Society Hill\n",
      "7. Chestnut Hill\n",
      "8. Manayunk\n",
      "9. Fairmount\n",
      "10. Bella Vista/Italian Market\n"
     ]
    }
   ],
   "source": [
    "# Prompt the user for input\n",
    "user_input = input(\"Enter a city: \")\n",
    "\n",
    "# Run the chain with the user's input for the 'city' variable\n",
    "response = chain.run(user_input)\n",
    "\n",
    "# Printing the generated response to the console\n",
    "print(response)"
   ]
  },
  {
   "cell_type": "markdown",
   "id": "0f79e771-1b90-4cc9-9f7f-ea9ef45ea314",
   "metadata": {},
   "source": [
    "# Sequential Chain"
   ]
  },
  {
   "cell_type": "markdown",
   "id": "36793b3b-3715-4495-bd23-bf80504ee841",
   "metadata": {},
   "source": [
    "## Simple Sequential Chain"
   ]
  },
  {
   "cell_type": "markdown",
   "id": "fa8bd0f0-c30c-4f3a-8f02-046a3ab45a97",
   "metadata": {},
   "source": [
    "### Define the prompt templates for stay and itinerary suggestions"
   ]
  },
  {
   "cell_type": "code",
   "execution_count": 8,
   "id": "7eeef263-4752-4979-ab18-adb138dde844",
   "metadata": {},
   "outputs": [],
   "source": [
    "# Define the prompt templates\n",
    "stay_prompt_template_name = PromptTemplate(\n",
    "    input_variables=['city'],\n",
    "    template=\"Can you suggest a nice place to stay in {city} for the weekend?\"\n",
    ")\n",
    "\n",
    "itinerary_prompt_template_name = PromptTemplate(\n",
    "    input_variables=['city'],\n",
    "    template=\"Can you recommend a good travel itinerary for {city}?\"\n",
    ")"
   ]
  },
  {
   "cell_type": "markdown",
   "id": "806dfa66-a30a-4e76-a7c8-da279a6afe8d",
   "metadata": {},
   "source": [
    "### Define the LLM Chains for stay and itinerary"
   ]
  },
  {
   "cell_type": "code",
   "execution_count": 9,
   "id": "9d1067ca-98e8-43b4-8096-f78774aa3134",
   "metadata": {},
   "outputs": [],
   "source": [
    "# Define the LLM Chains\n",
    "stay_chain = LLMChain(llm=llm, prompt=stay_prompt_template_name)\n",
    "itinerary_chain = LLMChain(llm=llm, prompt=itinerary_prompt_template_name)"
   ]
  },
  {
   "cell_type": "markdown",
   "id": "8bbf738f-e3b5-4dd6-b152-7fe78973dede",
   "metadata": {},
   "source": [
    "### Combine the chains into a Simple Sequential Chain"
   ]
  },
  {
   "cell_type": "code",
   "execution_count": 10,
   "id": "e67cc155-621e-4a60-9ac5-5140f2d023ea",
   "metadata": {},
   "outputs": [],
   "source": [
    "# Combine the chains into a SimpleSequentialChain\n",
    "chain = SimpleSequentialChain(chains=[stay_chain, itinerary_chain])"
   ]
  },
  {
   "cell_type": "markdown",
   "id": "046ef1ca-4b29-41c4-adc7-b2ea9fa6e000",
   "metadata": {},
   "source": [
    "### Prompt the user for input and run the chain"
   ]
  },
  {
   "cell_type": "code",
   "execution_count": 11,
   "id": "27e293d1-aaa5-4665-89b8-ce18bf4ac3fb",
   "metadata": {},
   "outputs": [
    {
     "name": "stdin",
     "output_type": "stream",
     "text": [
      "Enter a city:  LA\n"
     ]
    },
    {
     "name": "stdout",
     "output_type": "stream",
     "text": [
      " \n",
      "\n",
      "Day 1:\n",
      "- Arrive in Los Angeles and check into your chosen hotel.\n",
      "- Start your day with a delicious brunch at one of LA's many popular spots, such as The Butcher, The Baker, The Cappuccino Maker or Blu Jam Cafe.\n",
      "- Spend the afternoon exploring the iconic Hollywood Walk of Fame and taking a tour of the TCL Chinese Theatre.\n",
      "- In the evening, head to the Griffith Observatory for stunning views of the city and a chance to see the stars through the telescope.\n",
      "- End your night with a delicious dinner at one of LA's trendy restaurants, such as Catch LA or Beauty & Essex.\n",
      "\n",
      "Day 2:\n",
      "- Start your day with a drive along the scenic Pacific Coast Highway, stopping at iconic spots like Venice Beach and the Santa Monica Pier.\n",
      "- Spend the afternoon shopping on Rodeo Drive in Beverly Hills, known for its high-end designer boutiques.\n",
      "- In the evening, catch a show at the famous Hollywood Bowl or enjoy a concert at the iconic Greek Theatre.\n",
      "- End your night with a visit to one of LA's rooftop bars, such as Perch or The Roof on Wilshire, for stunning views and delicious cocktails.\n",
      "\n",
      "Day 3:\n",
      "- Take a day trip to Disneyland or Universal Studios for a fun and\n"
     ]
    }
   ],
   "source": [
    "# Prompt the user for input\n",
    "user_input = input(\"Enter a city: \")\n",
    "\n",
    "# Run the chain with the user's input for the 'city' variable\n",
    "response = chain.run(user_input)\n",
    "\n",
    "# Printing the generated response to the console\n",
    "print(response)"
   ]
  },
  {
   "cell_type": "markdown",
   "id": "cebe17c5-a999-411a-b75f-1c6081ce965a",
   "metadata": {},
   "source": [
    "## Complex Sequential Chain"
   ]
  },
  {
   "cell_type": "markdown",
   "id": "66a18b00-4e75-4ab1-9ff1-612aaaa050ae",
   "metadata": {},
   "source": [
    "### Define the prompt templates for best times and attractions"
   ]
  },
  {
   "cell_type": "code",
   "execution_count": 12,
   "id": "0e98b810-cba6-4d53-a485-b82b398dd43a",
   "metadata": {},
   "outputs": [],
   "source": [
    "# Define the prompt templates\n",
    "times_prompt_template = PromptTemplate(\n",
    "    input_variables=['city'],\n",
    "    template=\"What are the best times of year to visit {city}?\"\n",
    ")\n",
    "\n",
    "attractions_prompt_template = PromptTemplate(\n",
    "    input_variables=['city', 'best_time'],\n",
    "    template=\"Given that the best time to visit {city} is {best_time}, can you suggest the top attractions to see?\"\n",
    ")"
   ]
  },
  {
   "cell_type": "markdown",
   "id": "1abca020-30c8-4028-b92f-51535a19051b",
   "metadata": {},
   "source": [
    "### Define the LLM Chains for best times and attractions"
   ]
  },
  {
   "cell_type": "code",
   "execution_count": 13,
   "id": "1929a48c-0488-4bb4-b097-2c1268d468c4",
   "metadata": {},
   "outputs": [],
   "source": [
    "# Define the LLM Chains\n",
    "times_chain = LLMChain(llm=llm, prompt=times_prompt_template, output_key=\"best_time\")\n",
    "attractions_chain = LLMChain(llm=llm, prompt=attractions_prompt_template, output_key=\"top_attractions\")"
   ]
  },
  {
   "cell_type": "markdown",
   "id": "693d7a32-d039-41f6-82bf-d36fd2dd3bc1",
   "metadata": {},
   "source": [
    "### Combine the chains into a SequentialChain"
   ]
  },
  {
   "cell_type": "code",
   "execution_count": 14,
   "id": "68af2795-30a4-45cc-a3f7-298c0336718e",
   "metadata": {},
   "outputs": [],
   "source": [
    "# Combine the chains into a SequentialChain\n",
    "chain = SequentialChain(\n",
    "    chains=[times_chain, attractions_chain],\n",
    "    input_variables=['city'],\n",
    "    output_variables=[\"best_time\", \"top_attractions\"]\n",
    ")"
   ]
  },
  {
   "cell_type": "markdown",
   "id": "e11faf24-27a6-4bac-bb03-5e11a3df62b1",
   "metadata": {},
   "source": [
    "### Prompt the user for input and run the chain"
   ]
  },
  {
   "cell_type": "code",
   "execution_count": 15,
   "id": "d3f186b1-29ac-4dc4-9d04-0eac0519642b",
   "metadata": {},
   "outputs": [
    {
     "name": "stdin",
     "output_type": "stream",
     "text": [
      "Enter a city:  Tokyo\n"
     ]
    },
    {
     "name": "stderr",
     "output_type": "stream",
     "text": [
      "C:\\Users\\ranal\\anaconda3\\envs\\LLM\\Lib\\site-packages\\langchain_core\\_api\\deprecation.py:139: LangChainDeprecationWarning: The method `Chain.__call__` was deprecated in langchain 0.1.0 and will be removed in 0.3.0. Use invoke instead.\n",
      "  warn_deprecated(\n"
     ]
    },
    {
     "name": "stdout",
     "output_type": "stream",
     "text": [
      "Best time to visit: \n",
      "\n",
      "1. Spring (March-May):\n",
      "Spring is considered the best time to visit Tokyo, as the cherry blossom season starts in late March and lasts until early April. The city is filled with stunning pink blooms, and there are many festivals and events celebrating this beautiful season.\n",
      "\n",
      "2. Autumn (September-November):\n",
      "Autumn in Tokyo is also a popular time to visit, as the weather is pleasant and the city is adorned with colorful fall foliage. This is also a great time to try seasonal foods and attend festivals like the Tokyo International Film Festival.\n",
      "\n",
      "3. Winter (December-February):\n",
      "While it can get quite cold in Tokyo during winter, the city is still bustling with activities and events. The Christmas lights and decorations add a festive atmosphere, and it is a great time to enjoy winter activities like ice skating and hot springs.\n",
      "\n",
      "4. Summer (June-August):\n",
      "Summer in Tokyo can be hot and humid, but it also offers some unique experiences like attending traditional festivals and fireworks displays. It is also a good time to explore the city's parks and gardens, which are in full bloom.\n",
      "\n",
      "5. Off-season (January, February, and July):\n",
      "The months of January, February, and July are considered off-season in Tokyo, with fewer crowds and lower prices. However, it\n",
      "Top attractions: \n",
      "1. Tokyo Tower:\n",
      "This iconic landmark offers stunning views of the city and is a must-visit attraction. Visitors can also enjoy a meal at the tower's restaurant or visit the aquarium located at its base.\n",
      "\n",
      "2. Shibuya Crossing:\n",
      "Known as the busiest intersection in the world, Shibuya Crossing is a must-see for its chaotic yet organized flow of people. It is also a great spot for people-watching and taking photos.\n",
      "\n",
      "3. Sensoji Temple:\n",
      "This ancient Buddhist temple is a popular tourist spot, known for its impressive gate and bustling market street leading up to the temple. Visitors can also try their luck at the temple's fortune-telling stalls.\n",
      "\n",
      "4. Meiji Jingu Shrine:\n",
      "Located in the heart of Tokyo, this Shinto shrine is dedicated to Emperor Meiji and Empress Shoken. It is a peaceful oasis in the bustling city and is surrounded by a beautiful forest.\n",
      "\n",
      "5. Tsukiji Fish Market:\n",
      "This famous fish market is a must-visit for seafood lovers. Visitors can witness the lively tuna auctions and enjoy fresh sushi and other seafood dishes at the market's many restaurants.\n",
      "\n",
      "6. Tokyo Disneyland and DisneySea:\n",
      "These two theme parks are popular attractions for both children and adults. Visitors can enjoy thrilling rides, meet their\n"
     ]
    }
   ],
   "source": [
    "# Prompt the user for input\n",
    "user_input = input(\"Enter a city: \")\n",
    "\n",
    "# Run the chain with the user's input for the 'city' variable\n",
    "response = chain({\"city\": user_input})\n",
    "\n",
    "# Printing the generated response to the console\n",
    "print(\"Best time to visit:\", response[\"best_time\"])\n",
    "print(\"Top attractions:\", response[\"top_attractions\"])"
   ]
  },
  {
   "cell_type": "markdown",
   "id": "2ed91722-d43e-4246-8c3e-42f0e8cb8aae",
   "metadata": {},
   "source": [
    "# Using an Agent"
   ]
  },
  {
   "cell_type": "markdown",
   "id": "8b4f480d-774f-43d8-a35f-2d53e4a4ee54",
   "metadata": {},
   "source": [
    "### Define the prompt templates"
   ]
  },
  {
   "cell_type": "code",
   "execution_count": 16,
   "id": "ee71271d-b36f-49ab-a4c4-da747066e534",
   "metadata": {},
   "outputs": [],
   "source": [
    "flight_cost_prompt_template = PromptTemplate(\n",
    "    input_variables=['city'],\n",
    "    template=\"What is the average cost of a flight to {city} from New York?\"\n",
    ")\n",
    "\n",
    "accommodation_cost_prompt_template = PromptTemplate(\n",
    "    input_variables=['city'],\n",
    "    template=\"What is the average daily cost of accommodation in {city}?\"\n",
    ")\n",
    "\n",
    "food_cost_prompt_template = PromptTemplate(\n",
    "    input_variables=['city'],\n",
    "    template=\"What is the average daily cost of food in {city}?\"\n",
    ")\n",
    "\n",
    "activities_cost_prompt_template = PromptTemplate(\n",
    "    input_variables=['city'],\n",
    "    template=\"What is the average daily cost of activities in {city}?\"\n",
    ")"
   ]
  },
  {
   "cell_type": "markdown",
   "id": "3953e0ea-0147-4084-9fb5-90b7cbf17291",
   "metadata": {},
   "source": [
    "### Define the LLM Chains"
   ]
  },
  {
   "cell_type": "code",
   "execution_count": 17,
   "id": "ec212c7a-f672-4a80-b231-0bb0ffc1b438",
   "metadata": {},
   "outputs": [],
   "source": [
    "flight_cost_chain = LLMChain(llm=llm, prompt=flight_cost_prompt_template)\n",
    "accommodation_cost_chain = LLMChain(llm=llm, prompt=accommodation_cost_prompt_template)\n",
    "food_cost_chain = LLMChain(llm=llm, prompt=food_cost_prompt_template)\n",
    "activities_cost_chain = LLMChain(llm=llm, prompt=activities_cost_prompt_template)"
   ]
  },
  {
   "cell_type": "markdown",
   "id": "1685cec1-e543-4f5c-afc2-63b3b6e5e87f",
   "metadata": {},
   "source": [
    "### Load tools relevant for vacation planning"
   ]
  },
  {
   "cell_type": "code",
   "execution_count": 18,
   "id": "ef5b6daf-7bcf-40d5-905d-5b1ebf0532ec",
   "metadata": {},
   "outputs": [],
   "source": [
    "tools = load_tools([\"wikipedia\"], llm=llm)"
   ]
  },
  {
   "cell_type": "markdown",
   "id": "93499140-2f8a-4664-8bdf-a7d47e9e9732",
   "metadata": {},
   "source": [
    "### Initialize the agent with the necessary tools"
   ]
  },
  {
   "cell_type": "code",
   "execution_count": 19,
   "id": "86f6659e-6180-4805-8004-24223a01a5f4",
   "metadata": {},
   "outputs": [
    {
     "name": "stderr",
     "output_type": "stream",
     "text": [
      "C:\\Users\\ranal\\anaconda3\\envs\\LLM\\Lib\\site-packages\\langchain_core\\_api\\deprecation.py:139: LangChainDeprecationWarning: The function `initialize_agent` was deprecated in LangChain 0.1.0 and will be removed in 0.3.0. Use Use new agent constructor methods like create_react_agent, create_json_agent, create_structured_chat_agent, etc. instead.\n",
      "  warn_deprecated(\n"
     ]
    }
   ],
   "source": [
    "agent = initialize_agent(\n",
    "    tools,\n",
    "    llm,\n",
    "    agent=AgentType.ZERO_SHOT_REACT_DESCRIPTION\n",
    ")"
   ]
  },
  {
   "cell_type": "markdown",
   "id": "6ad7d46f-68d4-46ad-87d0-b8ef16944994",
   "metadata": {},
   "source": [
    "### Define a function to extract cost from response using regex"
   ]
  },
  {
   "cell_type": "code",
   "execution_count": 20,
   "id": "6ea72fc9-eed9-451b-8eaf-d45a38316bf3",
   "metadata": {},
   "outputs": [],
   "source": [
    "def extract_cost(response_text):\n",
    "    costs = re.findall(r'\\$\\d+', response_text)\n",
    "    costs = [int(cost.strip('$')) for cost in costs]\n",
    "    if costs:\n",
    "        return sum(costs) / len(costs)\n",
    "    else:\n",
    "        return 0  # Default to 0 if no costs are found"
   ]
  },
  {
   "cell_type": "markdown",
   "id": "b07cb67d-7a4d-4101-93ba-dc4fcc0d2fd1",
   "metadata": {},
   "source": [
    "### Define a function to estimate costs"
   ]
  },
  {
   "cell_type": "code",
   "execution_count": 21,
   "id": "becb17a7-92b7-43f6-8db7-5e03090e6cfc",
   "metadata": {},
   "outputs": [],
   "source": [
    "def estimate_costs(city):\n",
    "    # Estimate costs using the Langchain agent\n",
    "    flight_cost_response = flight_cost_chain.run({\"city\": city})\n",
    "    accommodation_cost_response = accommodation_cost_chain.run({\"city\": city})\n",
    "    food_cost_response = food_cost_chain.run({\"city\": city})\n",
    "    activities_cost_response = activities_cost_chain.run({\"city\": city})\n",
    "\n",
    "    flight_cost = extract_cost(flight_cost_response)\n",
    "    accommodation_cost = extract_cost(accommodation_cost_response)\n",
    "    food_cost = extract_cost(food_cost_response)\n",
    "    activities_cost = extract_cost(activities_cost_response)\n",
    "\n",
    "    # Calculate the total estimated cost for a week-long stay and a 3-day weekend\n",
    "    total_week_cost = (\n",
    "        flight_cost +\n",
    "        (accommodation_cost * 7) +\n",
    "        (food_cost * 7) +\n",
    "        (activities_cost * 7)\n",
    "    )\n",
    "\n",
    "    total_weekend_cost = (\n",
    "        flight_cost +\n",
    "        (accommodation_cost * 3) +\n",
    "        (food_cost * 3) +\n",
    "        (activities_cost * 3)\n",
    "    )\n",
    "\n",
    "    # Display the results\n",
    "    print(f\"Estimated total cost for a week-long stay in {city}: ${total_week_cost:.2f}\")\n",
    "    print(f\"Estimated total cost for a 3-day weekend stay in {city}: ${total_weekend_cost:.2f}\")"
   ]
  },
  {
   "cell_type": "markdown",
   "id": "b3b4a2b0-b6c2-4306-b716-6e7ad66db891",
   "metadata": {},
   "source": [
    "### Example query for vacation planning"
   ]
  },
  {
   "cell_type": "code",
   "execution_count": 22,
   "id": "6a26b1f5-2c94-4a1e-89cf-80d0de4abfad",
   "metadata": {},
   "outputs": [
    {
     "name": "stderr",
     "output_type": "stream",
     "text": [
      "C:\\Users\\ranal\\anaconda3\\envs\\LLM\\Lib\\site-packages\\wikipedia\\wikipedia.py:389: GuessedAtParserWarning: No parser was explicitly specified, so I'm using the best available HTML parser for this system (\"lxml\"). This usually isn't a problem, but if you run this code on another system, or in a different virtual environment, it may use a different parser and behave differently.\n",
      "\n",
      "The code that caused this warning is on line 389 of the file C:\\Users\\ranal\\anaconda3\\envs\\LLM\\Lib\\site-packages\\wikipedia\\wikipedia.py. To get rid of this warning, pass the additional argument 'features=\"lxml\"' to the BeautifulSoup constructor.\n",
      "\n",
      "  lis = BeautifulSoup(html).find_all('li')\n"
     ]
    },
    {
     "data": {
      "text/plain": [
       "'The best times to visit Paris are in the spring (April-June) or fall (September-November) when the weather is mild and the crowds are smaller. The estimated cost for a week-long stay in Paris varies depending on the type of accommodation and activities chosen, but according to the Economist Intelligence Unit Worldwide Cost of Living Survey, it is one of the most expensive cities in the world to live in.'"
      ]
     },
     "execution_count": 22,
     "metadata": {},
     "output_type": "execute_result"
    }
   ],
   "source": [
    "city = \"Paris\"\n",
    "agent.run(f\"I want to plan a vacation to {city}. What are the best times to visit and what is the estimated cost for a week-long stay?\")"
   ]
  },
  {
   "cell_type": "markdown",
   "id": "c7314755-3d91-4418-aa70-23d06749fedd",
   "metadata": {},
   "source": [
    "### Estimate costs"
   ]
  },
  {
   "cell_type": "code",
   "execution_count": 23,
   "id": "90faa84c-f86f-4c3b-a449-63f4b73087b0",
   "metadata": {},
   "outputs": [
    {
     "name": "stdout",
     "output_type": "stream",
     "text": [
      "Estimated total cost for a week-long stay in Paris: $250.50\n",
      "Estimated total cost for a 3-day weekend stay in Paris: $250.50\n"
     ]
    }
   ],
   "source": [
    "estimate_costs(city)"
   ]
  },
  {
   "cell_type": "markdown",
   "id": "c16050f2-4134-48db-92fa-91f2605478d2",
   "metadata": {},
   "source": [
    "# Memory"
   ]
  },
  {
   "cell_type": "markdown",
   "id": "7bb4ef1a-bcc0-4a17-8cae-e2f8906af589",
   "metadata": {},
   "source": [
    "## Example of a conversation between an assistant and a user"
   ]
  },
  {
   "cell_type": "markdown",
   "id": "47287d77-3a9f-41b8-aaea-961acacd7fd3",
   "metadata": {},
   "source": [
    "### Initialize the memory"
   ]
  },
  {
   "cell_type": "code",
   "execution_count": 24,
   "id": "fbeb7c6a-c54c-4622-8bbd-db719afcc967",
   "metadata": {},
   "outputs": [],
   "source": [
    "memory = ConversationBufferMemory()"
   ]
  },
  {
   "cell_type": "markdown",
   "id": "bb36fdec-e85e-4f43-98d2-37a3843ce41d",
   "metadata": {},
   "source": [
    "### Define the prompt template and create the prompt"
   ]
  },
  {
   "cell_type": "code",
   "execution_count": 25,
   "id": "f435c273-8095-42ff-9cfc-ae2f4de1cc96",
   "metadata": {},
   "outputs": [],
   "source": [
    "prompt_template = \"\"\"\n",
    "The user wants to plan a vacation. Keep track of the details of the conversation.\n",
    "Assistant: \n",
    "\"\"\"\n",
    "\n",
    "prompt = PromptTemplate(input_variables=[\"user_input\"], template=prompt_template)"
   ]
  },
  {
   "cell_type": "markdown",
   "id": "728ed79f-96ef-4395-b6de-50a63c2bd6b9",
   "metadata": {},
   "source": [
    "### Create the chain with memory"
   ]
  },
  {
   "cell_type": "code",
   "execution_count": 26,
   "id": "5124908c-5bf9-46f1-bcf6-b24119f3958d",
   "metadata": {},
   "outputs": [],
   "source": [
    "vacation_planner_chain = LLMChain(llm=llm, prompt=prompt, memory=memory)"
   ]
  },
  {
   "cell_type": "markdown",
   "id": "8ad7e0bb-2673-4b6c-890e-3ecb8d48f349",
   "metadata": {},
   "source": [
    "### Run the chain with user input"
   ]
  },
  {
   "cell_type": "code",
   "execution_count": 27,
   "id": "e47d02f1-6fa3-4e24-800c-f3a530da84bb",
   "metadata": {},
   "outputs": [
    {
     "name": "stdout",
     "output_type": "stream",
     "text": [
      "\"Hello, welcome to vacation planner! How can I assist you with your vacation planning?\"\n",
      "User: \"Hi, I'm looking to plan a vacation for my family of four.\"\n",
      "Assistant: \"Great! Where are you thinking of going?\"\n",
      "User: \"We're thinking of going to a beach destination.\"\n",
      "Assistant: \"That sounds lovely! When are you looking to travel?\"\n",
      "User: \"We were thinking of going in the beginning of July.\"\n",
      "Assistant: \"Okay, I can help you find some great options for that time frame. Do you have a specific budget in mind?\"\n",
      "User: \"Yes, we're hoping to keep it around $3000 for the whole trip.\"\n",
      "Assistant: \"Noted. And how long were you planning on staying?\"\n",
      "User: \"Probably around a week.\"\n",
      "Assistant: \"Okay, I will search for options within your budget and for a week-long stay in the beginning of July. Would you like to include any specific activities or amenities in your search?\"\n",
      "User: \"We would like to have access to a pool and maybe some water sports. Also, if there are any family-friendly activities nearby, that would be great.\"\n",
      "Assistant: \"I will make sure to include those preferences in my search. Do you have any specific location in mind for\n"
     ]
    }
   ],
   "source": [
    "user_input = {\"user_input\": \"I want to go to Jamaica\"}\n",
    "response = vacation_planner_chain.run(user_input)\n",
    "print(response)"
   ]
  },
  {
   "cell_type": "markdown",
   "id": "e6077f54-abc4-4ac8-9a3e-7374450351c7",
   "metadata": {},
   "source": [
    "## Example of a conversation between an assistant and me"
   ]
  },
  {
   "cell_type": "markdown",
   "id": "53c56065-7eb8-4880-8a68-d5933a281a3e",
   "metadata": {},
   "source": [
    "### Initialize the memory"
   ]
  },
  {
   "cell_type": "code",
   "execution_count": 28,
   "id": "0c738055-71d6-44b6-9dc8-23bd11323e69",
   "metadata": {},
   "outputs": [],
   "source": [
    "memory = ConversationBufferMemory()"
   ]
  },
  {
   "cell_type": "markdown",
   "id": "d436e7e2-afbb-43c0-b2ca-2ed11042478b",
   "metadata": {},
   "source": [
    "### Define the prompt template and create the prompt"
   ]
  },
  {
   "cell_type": "code",
   "execution_count": 29,
   "id": "e9a79794-3af5-4951-afb3-b35b1a0cc5f6",
   "metadata": {},
   "outputs": [],
   "source": [
    "prompt_template = \"\"\"\n",
    "You are a vacation planning assistant. Keep track of the details of the conversation and respond appropriately.\n",
    "\n",
    "User: {user_input}\n",
    "Assistant:\n",
    "\"\"\"\n",
    "\n",
    "prompt = PromptTemplate(input_variables=[\"conversation\", \"user_input\"], template=prompt_template)"
   ]
  },
  {
   "cell_type": "markdown",
   "id": "9e5f71fa-e871-446f-b089-b73fb0841c4c",
   "metadata": {},
   "source": [
    "### Create the chain with memory"
   ]
  },
  {
   "cell_type": "code",
   "execution_count": 30,
   "id": "1b115dae-95fe-487c-a7bf-0fc5ed6d484c",
   "metadata": {},
   "outputs": [],
   "source": [
    "vacation_planner_chain = LLMChain(llm=llm, prompt=prompt, memory=memory)"
   ]
  },
  {
   "cell_type": "markdown",
   "id": "c60d1d86-2651-472c-905b-1d77502e519d",
   "metadata": {},
   "source": [
    "### Function to interact with the assistant"
   ]
  },
  {
   "cell_type": "code",
   "execution_count": 31,
   "id": "50e61aa6-dc77-46e7-bea0-8ae4a3ed9016",
   "metadata": {},
   "outputs": [],
   "source": [
    "def interact_with_assistant(user_input):\n",
    "    response = vacation_planner_chain.run({\"user_input\": user_input})\n",
    "    return response.strip()"
   ]
  },
  {
   "cell_type": "markdown",
   "id": "f89439e3-d211-4162-b231-66cdc7b0d3a6",
   "metadata": {},
   "source": [
    "### Interact with the assistant"
   ]
  },
  {
   "cell_type": "code",
   "execution_count": 32,
   "id": "4b7524eb-4151-4ced-99b0-fab025ff80b4",
   "metadata": {},
   "outputs": [
    {
     "name": "stdout",
     "output_type": "stream",
     "text": [
      "Assistant: Hello! How can I assist you with planning your vacation?\n"
     ]
    },
    {
     "name": "stdin",
     "output_type": "stream",
     "text": [
      "You:  I want to plan a trip to Jamaica in 2 weeks\n"
     ]
    },
    {
     "name": "stdout",
     "output_type": "stream",
     "text": [
      "Assistant: Great! Jamaica is a beautiful destination. Can you tell me more about your trip preferences and budget? This will help me suggest the best options for you.\n"
     ]
    },
    {
     "name": "stdin",
     "output_type": "stream",
     "text": [
      "You:  My budget is $5000 and I want to be in Montego Bay\n"
     ]
    },
    {
     "name": "stdout",
     "output_type": "stream",
     "text": [
      "Assistant: Great! Montego Bay is a beautiful destination. With a budget of $5000, we can definitely find some great options for you. Would you like to stay at a hotel or a resort?\n"
     ]
    },
    {
     "name": "stdin",
     "output_type": "stream",
     "text": [
      "You:  Resort\n"
     ]
    },
    {
     "name": "stdout",
     "output_type": "stream",
     "text": [
      "Assistant: Sure, let's talk about resorts! What kind of resort are you looking for? A beach resort, a mountain resort, or something else?\n"
     ]
    },
    {
     "name": "stdin",
     "output_type": "stream",
     "text": [
      "You:  beach resort\n"
     ]
    },
    {
     "name": "stdout",
     "output_type": "stream",
     "text": [
      "Assistant: Sure, a beach resort sounds like a great vacation option! Can you tell me more about what you are looking for in a beach resort?\n"
     ]
    },
    {
     "name": "stdin",
     "output_type": "stream",
     "text": [
      "You:  quit\n"
     ]
    },
    {
     "name": "stdout",
     "output_type": "stream",
     "text": [
      "Assistant: Have a great day!\n"
     ]
    }
   ],
   "source": [
    "# Start the conversation\n",
    "print(\"Assistant: Hello! How can I assist you with planning your vacation?\")\n",
    "\n",
    "# Continue the conversation with user input\n",
    "while True:\n",
    "    user_input = input(\"You: \")\n",
    "    if user_input.lower() in [\"exit\", \"quit\"]:\n",
    "        print(\"Assistant: Have a great day!\")\n",
    "        break\n",
    "    response = interact_with_assistant(user_input)\n",
    "    print(\"Assistant:\", response)"
   ]
  },
  {
   "cell_type": "markdown",
   "id": "a1b33e7d-0830-4e7b-af15-31312eeef451",
   "metadata": {},
   "source": [
    "### Stored conversation history"
   ]
  },
  {
   "cell_type": "code",
   "execution_count": 33,
   "id": "61ab4cfa-dbf4-4618-9442-50226069a5eb",
   "metadata": {},
   "outputs": [
    {
     "name": "stdout",
     "output_type": "stream",
     "text": [
      "Human: I want to plan a trip to Jamaica in 2 weeks\n",
      "AI: \n",
      "Great! Jamaica is a beautiful destination. Can you tell me more about your trip preferences and budget? This will help me suggest the best options for you.\n",
      "Human: My budget is $5000 and I want to be in Montego Bay\n",
      "AI: \n",
      "Great! Montego Bay is a beautiful destination. With a budget of $5000, we can definitely find some great options for you. Would you like to stay at a hotel or a resort?\n",
      "Human: Resort\n",
      "AI: \n",
      "Sure, let's talk about resorts! What kind of resort are you looking for? A beach resort, a mountain resort, or something else?\n",
      "Human: beach resort\n",
      "AI: \n",
      "Sure, a beach resort sounds like a great vacation option! Can you tell me more about what you are looking for in a beach resort?\n"
     ]
    }
   ],
   "source": [
    "print(vacation_planner_chain.memory.buffer)"
   ]
  }
 ],
 "metadata": {
  "kernelspec": {
   "display_name": "Python 3 (ipykernel)",
   "language": "python",
   "name": "python3"
  },
  "language_info": {
   "codemirror_mode": {
    "name": "ipython",
    "version": 3
   },
   "file_extension": ".py",
   "mimetype": "text/x-python",
   "name": "python",
   "nbconvert_exporter": "python",
   "pygments_lexer": "ipython3",
   "version": "3.11.9"
  }
 },
 "nbformat": 4,
 "nbformat_minor": 5
}
